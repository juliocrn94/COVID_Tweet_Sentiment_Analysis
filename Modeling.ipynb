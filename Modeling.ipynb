{
 "cells": [
  {
   "cell_type": "markdown",
   "metadata": {},
   "source": [
    "# LOADING DEPENDENCIES\n",
    "\n",
    "## <span style=\"color:red\"> MUST RUN ALWAYS</span>\n"
   ]
  },
  {
   "cell_type": "code",
   "execution_count": 1,
   "metadata": {},
   "outputs": [
    {
     "name": "stderr",
     "output_type": "stream",
     "text": [
      "[nltk_data] Downloading package stopwords to\n",
      "[nltk_data]     /Users/juliorenteria/nltk_data...\n",
      "[nltk_data]   Package stopwords is already up-to-date!\n"
     ]
    }
   ],
   "source": [
    "# Data Manipulation\n",
    "import pandas as pd\n",
    "import numpy as np\n",
    "\n",
    "# Checkpoints\n",
    "import pickle\n",
    "from tqdm.notebook import trange, tqdm\n",
    "\n",
    "# Preprocessing\n",
    "import re    # RegEx for removing non-letter characters\n",
    "import nltk  #natural language processing\n",
    "nltk.download(\"stopwords\")\n",
    "from nltk.corpus import stopwords\n",
    "from nltk.stem.porter import *\n",
    "from sklearn.preprocessing import LabelEncoder\n",
    "from sklearn.model_selection import train_test_split\n",
    "from sklearn.feature_extraction.text import CountVectorizer, TfidfVectorizer\n",
    "from sklearn.ensemble import RandomForestClassifier\n",
    "import sklearn.preprocessing as pr\n"
   ]
  },
  {
   "cell_type": "markdown",
   "metadata": {},
   "source": [
    "# LOADING DATASET"
   ]
  },
  {
   "cell_type": "code",
   "execution_count": 38,
   "metadata": {},
   "outputs": [],
   "source": [
    "file_name = ''\n",
    "\n",
    "data = pd.read_csv(filename)\n",
    "\n"
   ]
  },
  {
   "cell_type": "code",
   "execution_count": 40,
   "metadata": {
    "scrolled": false
   },
   "outputs": [
    {
     "data": {
      "text/html": [
       "<div>\n",
       "<style scoped>\n",
       "    .dataframe tbody tr th:only-of-type {\n",
       "        vertical-align: middle;\n",
       "    }\n",
       "\n",
       "    .dataframe tbody tr th {\n",
       "        vertical-align: top;\n",
       "    }\n",
       "\n",
       "    .dataframe thead th {\n",
       "        text-align: right;\n",
       "    }\n",
       "</style>\n",
       "<table border=\"1\" class=\"dataframe\">\n",
       "  <thead>\n",
       "    <tr style=\"text-align: right;\">\n",
       "      <th></th>\n",
       "      <th>text</th>\n",
       "      <th>sentiment</th>\n",
       "    </tr>\n",
       "  </thead>\n",
       "  <tbody>\n",
       "    <tr>\n",
       "      <th>0</th>\n",
       "      <td>TRENDING: New Yorkers encounter empty supermar...</td>\n",
       "      <td>-1</td>\n",
       "    </tr>\n",
       "    <tr>\n",
       "      <th>1</th>\n",
       "      <td>When I couldn't find hand sanitizer at Fred Me...</td>\n",
       "      <td>1</td>\n",
       "    </tr>\n",
       "    <tr>\n",
       "      <th>2</th>\n",
       "      <td>Find out how you can protect yourself and love...</td>\n",
       "      <td>1</td>\n",
       "    </tr>\n",
       "    <tr>\n",
       "      <th>3</th>\n",
       "      <td>#Panic buying hits #NewYork City as anxious sh...</td>\n",
       "      <td>-1</td>\n",
       "    </tr>\n",
       "    <tr>\n",
       "      <th>4</th>\n",
       "      <td>#toiletpaper #dunnypaper #coronavirus #coronav...</td>\n",
       "      <td>0</td>\n",
       "    </tr>\n",
       "    <tr>\n",
       "      <th>5</th>\n",
       "      <td>Do you remember the last time you paid $2.99 a...</td>\n",
       "      <td>0</td>\n",
       "    </tr>\n",
       "    <tr>\n",
       "      <th>6</th>\n",
       "      <td>Voting in the age of #coronavirus = hand sanit...</td>\n",
       "      <td>1</td>\n",
       "    </tr>\n",
       "    <tr>\n",
       "      <th>7</th>\n",
       "      <td>@DrTedros \"We cant stop #COVID19 without prot...</td>\n",
       "      <td>0</td>\n",
       "    </tr>\n",
       "    <tr>\n",
       "      <th>8</th>\n",
       "      <td>HI TWITTER! I am a pharmacist. I sell hand san...</td>\n",
       "      <td>-1</td>\n",
       "    </tr>\n",
       "    <tr>\n",
       "      <th>9</th>\n",
       "      <td>Anyone been in a supermarket over the last few...</td>\n",
       "      <td>1</td>\n",
       "    </tr>\n",
       "    <tr>\n",
       "      <th>10</th>\n",
       "      <td>Best quality couches at unbelievably low price...</td>\n",
       "      <td>1</td>\n",
       "    </tr>\n",
       "    <tr>\n",
       "      <th>11</th>\n",
       "      <td>Beware of counterfeits trying to sell fake mas...</td>\n",
       "      <td>-1</td>\n",
       "    </tr>\n",
       "    <tr>\n",
       "      <th>12</th>\n",
       "      <td>Panic food buying in Germany due to #coronavir...</td>\n",
       "      <td>-1</td>\n",
       "    </tr>\n",
       "    <tr>\n",
       "      <th>13</th>\n",
       "      <td>#Covid_19 Went to the Grocery Store, turns out...</td>\n",
       "      <td>1</td>\n",
       "    </tr>\n",
       "    <tr>\n",
       "      <th>14</th>\n",
       "      <td>While we were busy watching election returns a...</td>\n",
       "      <td>1</td>\n",
       "    </tr>\n",
       "    <tr>\n",
       "      <th>15</th>\n",
       "      <td>#AirSewa \\n\\n\\n\\n@flyspicejet is not providing...</td>\n",
       "      <td>-1</td>\n",
       "    </tr>\n",
       "    <tr>\n",
       "      <th>16</th>\n",
       "      <td>What Precautionary measures have you all taken...</td>\n",
       "      <td>1</td>\n",
       "    </tr>\n",
       "    <tr>\n",
       "      <th>17</th>\n",
       "      <td>When youre stockpiling food &amp;amp; other suppl...</td>\n",
       "      <td>0</td>\n",
       "    </tr>\n",
       "    <tr>\n",
       "      <th>18</th>\n",
       "      <td>That's about a week from now. A bit optimistic...</td>\n",
       "      <td>1</td>\n",
       "    </tr>\n",
       "    <tr>\n",
       "      <th>19</th>\n",
       "      <td>Studies show the #coronavirus like #COVID19 ca...</td>\n",
       "      <td>1</td>\n",
       "    </tr>\n",
       "    <tr>\n",
       "      <th>20</th>\n",
       "      <td>#CoronaVirus #COVID_19 People are starting to ...</td>\n",
       "      <td>-1</td>\n",
       "    </tr>\n",
       "    <tr>\n",
       "      <th>21</th>\n",
       "      <td>For those of you that think credit/debit is ju...</td>\n",
       "      <td>1</td>\n",
       "    </tr>\n",
       "    <tr>\n",
       "      <th>22</th>\n",
       "      <td>Control over stocks and gold is lost...gold co...</td>\n",
       "      <td>1</td>\n",
       "    </tr>\n",
       "    <tr>\n",
       "      <th>23</th>\n",
       "      <td>Sellers are cashing on your panic to sell face...</td>\n",
       "      <td>1</td>\n",
       "    </tr>\n",
       "    <tr>\n",
       "      <th>24</th>\n",
       "      <td>Canada's oilpatch is bracing for the impact of...</td>\n",
       "      <td>-1</td>\n",
       "    </tr>\n",
       "    <tr>\n",
       "      <th>25</th>\n",
       "      <td>Alright yall I hope our Melanin prevails but ...</td>\n",
       "      <td>1</td>\n",
       "    </tr>\n",
       "    <tr>\n",
       "      <th>26</th>\n",
       "      <td>When your usual grocery shopping @woolworths t...</td>\n",
       "      <td>-1</td>\n",
       "    </tr>\n",
       "    <tr>\n",
       "      <th>27</th>\n",
       "      <td>Coronavirus panic spreads: Costco is pulling f...</td>\n",
       "      <td>-1</td>\n",
       "    </tr>\n",
       "    <tr>\n",
       "      <th>28</th>\n",
       "      <td>While you are stocking up, waiting for quarant...</td>\n",
       "      <td>-1</td>\n",
       "    </tr>\n",
       "    <tr>\n",
       "      <th>29</th>\n",
       "      <td>#Coronavirus is \"an exposure of all the holes ...</td>\n",
       "      <td>1</td>\n",
       "    </tr>\n",
       "    <tr>\n",
       "      <th>30</th>\n",
       "      <td>Two important phone numbers NYers should know....</td>\n",
       "      <td>-1</td>\n",
       "    </tr>\n",
       "    <tr>\n",
       "      <th>31</th>\n",
       "      <td>Tip for all Pro Wrestlers to help combat the #...</td>\n",
       "      <td>1</td>\n",
       "    </tr>\n",
       "    <tr>\n",
       "      <th>32</th>\n",
       "      <td>Is this effective?\\n\\nIs it necessary?\\n\\nOr i...</td>\n",
       "      <td>-1</td>\n",
       "    </tr>\n",
       "    <tr>\n",
       "      <th>33</th>\n",
       "      <td>IMHO Russia's rug pull on oil prices is design...</td>\n",
       "      <td>-1</td>\n",
       "    </tr>\n",
       "    <tr>\n",
       "      <th>34</th>\n",
       "      <td>So not due to #Brexit at all then &amp;gt;&amp;gt; Sup...</td>\n",
       "      <td>0</td>\n",
       "    </tr>\n",
       "    <tr>\n",
       "      <th>35</th>\n",
       "      <td>Remember, with all the media deflection storie...</td>\n",
       "      <td>-1</td>\n",
       "    </tr>\n",
       "    <tr>\n",
       "      <th>36</th>\n",
       "      <td>Fellow Uni instructors! COVID-19 f2f class can...</td>\n",
       "      <td>-1</td>\n",
       "    </tr>\n",
       "    <tr>\n",
       "      <th>37</th>\n",
       "      <td>@howroute Its not even over food... what the ...</td>\n",
       "      <td>0</td>\n",
       "    </tr>\n",
       "    <tr>\n",
       "      <th>38</th>\n",
       "      <td>1/25 Part 1 - Why does soap work so well on th...</td>\n",
       "      <td>-1</td>\n",
       "    </tr>\n",
       "    <tr>\n",
       "      <th>39</th>\n",
       "      <td>Thread: Please STOP shaming folks who stock up...</td>\n",
       "      <td>1</td>\n",
       "    </tr>\n",
       "    <tr>\n",
       "      <th>40</th>\n",
       "      <td>For those thinking #seniors #disabled &amp;amp; #v...</td>\n",
       "      <td>1</td>\n",
       "    </tr>\n",
       "    <tr>\n",
       "      <th>41</th>\n",
       "      <td>So far 36 Pennsylvanians have reached out to m...</td>\n",
       "      <td>-1</td>\n",
       "    </tr>\n",
       "    <tr>\n",
       "      <th>42</th>\n",
       "      <td>Global stock markets continued their bear run ...</td>\n",
       "      <td>0</td>\n",
       "    </tr>\n",
       "    <tr>\n",
       "      <th>43</th>\n",
       "      <td>Scammers are taking advantage of fears surroun...</td>\n",
       "      <td>1</td>\n",
       "    </tr>\n",
       "    <tr>\n",
       "      <th>44</th>\n",
       "      <td>Are you doing business in international market...</td>\n",
       "      <td>1</td>\n",
       "    </tr>\n",
       "    <tr>\n",
       "      <th>45</th>\n",
       "      <td>For those in gig economy who only earn if ppl ...</td>\n",
       "      <td>1</td>\n",
       "    </tr>\n",
       "    <tr>\n",
       "      <th>46</th>\n",
       "      <td>I have instructed that insurance companies mak...</td>\n",
       "      <td>1</td>\n",
       "    </tr>\n",
       "    <tr>\n",
       "      <th>47</th>\n",
       "      <td>The oil prices dipping has absolutely nothing ...</td>\n",
       "      <td>-1</td>\n",
       "    </tr>\n",
       "    <tr>\n",
       "      <th>48</th>\n",
       "      <td>Global stocks plummeted today due to fear surr...</td>\n",
       "      <td>-1</td>\n",
       "    </tr>\n",
       "    <tr>\n",
       "      <th>49</th>\n",
       "      <td>The beginning of a  global recession!\\n\\n\\n\\n#...</td>\n",
       "      <td>-1</td>\n",
       "    </tr>\n",
       "  </tbody>\n",
       "</table>\n",
       "</div>"
      ],
      "text/plain": [
       "                                                 text  sentiment\n",
       "0   TRENDING: New Yorkers encounter empty supermar...         -1\n",
       "1   When I couldn't find hand sanitizer at Fred Me...          1\n",
       "2   Find out how you can protect yourself and love...          1\n",
       "3   #Panic buying hits #NewYork City as anxious sh...         -1\n",
       "4   #toiletpaper #dunnypaper #coronavirus #coronav...          0\n",
       "5   Do you remember the last time you paid $2.99 a...          0\n",
       "6   Voting in the age of #coronavirus = hand sanit...          1\n",
       "7   @DrTedros \"We cant stop #COVID19 without prot...          0\n",
       "8   HI TWITTER! I am a pharmacist. I sell hand san...         -1\n",
       "9   Anyone been in a supermarket over the last few...          1\n",
       "10  Best quality couches at unbelievably low price...          1\n",
       "11  Beware of counterfeits trying to sell fake mas...         -1\n",
       "12  Panic food buying in Germany due to #coronavir...         -1\n",
       "13  #Covid_19 Went to the Grocery Store, turns out...          1\n",
       "14  While we were busy watching election returns a...          1\n",
       "15  #AirSewa \\n\\n\\n\\n@flyspicejet is not providing...         -1\n",
       "16  What Precautionary measures have you all taken...          1\n",
       "17  When youre stockpiling food &amp; other suppl...          0\n",
       "18  That's about a week from now. A bit optimistic...          1\n",
       "19  Studies show the #coronavirus like #COVID19 ca...          1\n",
       "20  #CoronaVirus #COVID_19 People are starting to ...         -1\n",
       "21  For those of you that think credit/debit is ju...          1\n",
       "22  Control over stocks and gold is lost...gold co...          1\n",
       "23  Sellers are cashing on your panic to sell face...          1\n",
       "24  Canada's oilpatch is bracing for the impact of...         -1\n",
       "25  Alright yall I hope our Melanin prevails but ...          1\n",
       "26  When your usual grocery shopping @woolworths t...         -1\n",
       "27  Coronavirus panic spreads: Costco is pulling f...         -1\n",
       "28  While you are stocking up, waiting for quarant...         -1\n",
       "29  #Coronavirus is \"an exposure of all the holes ...          1\n",
       "30  Two important phone numbers NYers should know....         -1\n",
       "31  Tip for all Pro Wrestlers to help combat the #...          1\n",
       "32  Is this effective?\\n\\nIs it necessary?\\n\\nOr i...         -1\n",
       "33  IMHO Russia's rug pull on oil prices is design...         -1\n",
       "34  So not due to #Brexit at all then &gt;&gt; Sup...          0\n",
       "35  Remember, with all the media deflection storie...         -1\n",
       "36  Fellow Uni instructors! COVID-19 f2f class can...         -1\n",
       "37  @howroute Its not even over food... what the ...          0\n",
       "38  1/25 Part 1 - Why does soap work so well on th...         -1\n",
       "39  Thread: Please STOP shaming folks who stock up...          1\n",
       "40  For those thinking #seniors #disabled &amp; #v...          1\n",
       "41  So far 36 Pennsylvanians have reached out to m...         -1\n",
       "42  Global stock markets continued their bear run ...          0\n",
       "43  Scammers are taking advantage of fears surroun...          1\n",
       "44  Are you doing business in international market...          1\n",
       "45  For those in gig economy who only earn if ppl ...          1\n",
       "46  I have instructed that insurance companies mak...          1\n",
       "47  The oil prices dipping has absolutely nothing ...         -1\n",
       "48  Global stocks plummeted today due to fear surr...         -1\n",
       "49  The beginning of a  global recession!\\n\\n\\n\\n#...         -1"
      ]
     },
     "execution_count": 40,
     "metadata": {},
     "output_type": "execute_result"
    }
   ],
   "source": [
    "data.head(50)"
   ]
  },
  {
   "cell_type": "markdown",
   "metadata": {},
   "source": [
    "# TOKENIZING\n",
    "\n",
    "Separate tweets into lists of word (or components) that carry meanings.\n",
    "\n",
    "Removing/converting the following elements:\n",
    "- Uppercase\n",
    "- Urls\n",
    "- Simbols\n",
    "- Numbers\n",
    "- English Stopwords\n",
    "- Stemming"
   ]
  },
  {
   "cell_type": "code",
   "execution_count": null,
   "metadata": {},
   "outputs": [],
   "source": [
    "# Function to format, tokenize and remove stopwords from tweets.\n",
    "def tweet_to_words(tweet):\n",
    "    ''' Convert tweet text into a sequence of words '''\n",
    "    \n",
    "    # convert to lowercase\n",
    "    text = tweet.lower()\n",
    "    # remove tweeter users ( @xxx )\n",
    "    text = re.sub(r\"[@]\\w+\", \" \", text)\n",
    "    # remove https\n",
    "    text = re.sub(r\"[(http(s)?):\\/\\/(www\\.)?a-zA-Z0-9@:%._\\+~#=]{2,256}\\.[a-z]{2,6}\\b([-a-zA-Z0-9@:%_\\+.~#?&\\/\\/=]*)\", \" \", text)\n",
    "    #text = \" \".join(filter(lambda w: w.find(\"https://\") == -1, text.split(\" \")))\n",
    "    # remove non letters\n",
    "    text = re.sub(r\"[^a-zA-Z0-9]\", \" \", text)\n",
    "    #remove numbers\n",
    "    text = re.sub(r\"[0-9]*\", \"\", text)\n",
    "    # tokenize\n",
    "    words = text.split()\n",
    "    # remove stopwords\n",
    "    words = [w for w in words if w not in stopwords.words(\"english\")]\n",
    "    # apply stemming\n",
    "    words = [PorterStemmer().stem(w) for w in words]\n",
    "    # return list\n",
    "    return words\n"
   ]
  },
  {
   "cell_type": "code",
   "execution_count": null,
   "metadata": {},
   "outputs": [],
   "source": [
    "# Testing tweet_to_words Function\n",
    "sel = 4\n",
    "print(\"\\nORIGINAL TWEET ->\\n\", data['text'][sel])\n",
    "print(\"\\nPROCESSED TWEET ->\\n\", tweet_to_words(data['text'][sel]))\n"
   ]
  },
  {
   "cell_type": "code",
   "execution_count": null,
   "metadata": {},
   "outputs": [],
   "source": [
    "# Apply tokenization to each tweet and store as X\n",
    "X = []\n",
    "for i in trange(len(data['text'])):\n",
    "    X.append(tweet_to_words(data['text'][i]))"
   ]
  },
  {
   "cell_type": "code",
   "execution_count": null,
   "metadata": {},
   "outputs": [],
   "source": [
    "# Encode target labels\n",
    "le = LabelEncoder()\n",
    "Y = le.fit_transform(data['sentiment'])\n"
   ]
  },
  {
   "cell_type": "code",
   "execution_count": null,
   "metadata": {},
   "outputs": [],
   "source": [
    "# Apply tokenization to each tweet and store as X\n",
    "# X = list(map(tweet_to_words, data['text']))\n"
   ]
  },
  {
   "cell_type": "markdown",
   "metadata": {},
   "source": [
    "## 🚩 CHECKPOINT \n",
    "\n",
    "Saving **Tokenized List** as a Pickle File to retrieve latter and save memory and time."
   ]
  },
  {
   "cell_type": "code",
   "execution_count": 2,
   "metadata": {},
   "outputs": [],
   "source": [
    "# Saving X to a PICKLE to retrieve back latter:\n",
    "\n",
    "# Code to Save PICKLE\n",
    "#with open('X.pkl', 'wb') as f:\n",
    "#    pickle.dump(X, f)\n",
    "#with open('Y.pkl', 'wb') as f:\n",
    "#    pickle.dump(Y, f)\n"
   ]
  },
  {
   "cell_type": "code",
   "execution_count": 3,
   "metadata": {},
   "outputs": [],
   "source": [
    "# Code to Retrieve PICKLE\n",
    "#with open('X.pkl', 'rb') as f:\n",
    "#    X = pickle.load(f)\n",
    "#with open('Y.pkl', 'rb') as f:\n",
    "#    Y = pickle.load(f)\n"
   ]
  },
  {
   "cell_type": "markdown",
   "metadata": {},
   "source": [
    "# TRAIN TEST SPLIT"
   ]
  },
  {
   "cell_type": "code",
   "execution_count": 4,
   "metadata": {},
   "outputs": [
    {
     "name": "stdout",
     "output_type": "stream",
     "text": [
      "Number of tweets in the total set :    239252\n",
      "Number of tweets in the training set : 167476\n",
      "Number of tweets in the testing set :  71776\n"
     ]
    }
   ],
   "source": [
    "# Splitting into train and test sets\n",
    "X_train, X_test, y_train, y_test = train_test_split(X, Y, test_size=0.3, random_state=13)\n",
    "\n",
    "print('Number of tweets in the total set :    {}'.format(len(X)))\n",
    "print('Number of tweets in the training set : {}'.format(len(X_train)))\n",
    "print('Number of tweets in the testing set :  {}'.format(len(X_test)))\n"
   ]
  },
  {
   "cell_type": "markdown",
   "metadata": {},
   "source": [
    "# BAG OF WORDS\n"
   ]
  },
  {
   "cell_type": "code",
   "execution_count": 5,
   "metadata": {},
   "outputs": [
    {
     "name": "stderr",
     "output_type": "stream",
     "text": [
      "/Library/Frameworks/Python.framework/Versions/3.7/lib/python3.7/site-packages/sklearn/feature_extraction/text.py:507: UserWarning: The parameter 'token_pattern' will not be used since 'tokenizer' is not None'\n",
      "  warnings.warn(\"The parameter 'token_pattern' will not be used\"\n"
     ]
    },
    {
     "data": {
      "text/plain": [
       "CountVectorizer(analyzer='word', binary=False, decode_error='strict',\n",
       "                dtype=<class 'numpy.int64'>, encoding='utf-8', input='content',\n",
       "                lowercase=True, max_df=1.0, max_features=5000, min_df=1,\n",
       "                ngram_range=(1, 1),\n",
       "                preprocessor=<function <lambda> at 0x7f86f6c686a8>,\n",
       "                stop_words=None, strip_accents=None,\n",
       "                token_pattern='(?u)\\\\b\\\\w\\\\w+\\\\b',\n",
       "                tokenizer=<function <lambda> at 0x7f86f6c68598>,\n",
       "                vocabulary=None)"
      ]
     },
     "execution_count": 5,
     "metadata": {},
     "output_type": "execute_result"
    }
   ],
   "source": [
    "# Convert a collection of text documents to a matrix of token counts\n",
    "vocabulary_size = 5000    # Rounded up from 17422\n",
    "\n",
    "# Generating Bag of Words\n",
    "# Tweets have already been preprocessed hence dummy function will be passed in to preprocessor & tokenizer step\n",
    "count_vector = CountVectorizer(max_features=vocabulary_size, preprocessor=lambda x: x, tokenizer=lambda x: x)\n",
    "count_vector.fit(X_train)\n"
   ]
  },
  {
   "cell_type": "code",
   "execution_count": 10,
   "metadata": {},
   "outputs": [
    {
     "name": "stdout",
     "output_type": "stream",
     "text": [
      "VOCABULARY SIZE:  5000\n",
      "VOCABULARY CONTENT:  {'modi': 2877, 'say': 3904, 'follow': 1741, 'think': 4496, 'fine': 1700, 'releas': 3701, 'movi': 2915, 'abus': 31, 'run': 3831, 'politician': 3374, 'elect': 1454, 'countri': 1046, 'cinema': 839, 'one': 3116, 'major': 2700, 'influenc': 2255, 'peopl': 3273, 'human': 2155, 'alway': 171, 'civil': 848, 'world': 4935, 'govern': 1916, 'putin': 3551, 'w': 4812, 'dream': 1392, 'rt': 3821, 'rise': 3786, 'fear': 1661, 'trigger': 4617, 'person': 3287, 'safeti': 3858, 'concern': 942, 'via': 4776, 'journey': 2403, 'common': 919, 'man': 2715, 'trailer': 4590, 'ashish': 286, 'sharma': 4002, 'congratul': 964, 'possibl': 3393, 'whether': 4887, 'black': 532, 'money': 2889, 'return': 3761, 'india': 2235, 'anybodi': 227, 'guess': 1961, 'white': 4891, 'leav': 2559, 'everybodi': 1545, 'see': 3945, 'nirav': 3035, 'mallya': 2709, 'carri': 723, 'full': 1814, 'report': 3728, 'card': 719, 'shock': 4030, 'chang': 775, 'last': 2533, 'year': 4968, 'suffer': 4324, 'highest': 2080, 'unemploy': 4680, 'rate': 3629, 'nsso': 3069, 'data': 1151, 'top': 4565, 'watch': 4843, 'comput': 938, 'becom': 439, 'fourth': 1774, 'nation': 2975, 'possess': 3392, 'antisatellit': 223, 'weapon': 4853, 'asat': 283, 'success': 4320, 'target': 4413, 'live': 2609, 'satellit': 3897, 'move': 2913, 'toward': 4575, 'secur': 3944, 'econom': 1437, 'growth': 1954, 'technolog': 4433, 'advanc': 84, 'felt': 1678, 'score': 3920, 'bean': 433, 'groceri': 1946, 'store': 4275, 'today': 4543, 'rss': 3820, 'alreadi': 166, 'declar': 1177, 'terrorist': 4464, 'outfit': 3165, 'deni': 1223, 'entri': 1506, 'mani': 2722, 'european': 1538, 'usa': 4724, 'visit': 4799, 'supermarket': 4341, 'queue': 3567, 'ask': 292, 'behind': 455, 'could': 1040, 'back': 373, 'metr': 2811, 'sens': 3965, 'humor': 2158, 'fire': 1704, 'cylind': 1126, 'matt': 2761, 'lata': 2534, 'respect': 3746, 'though': 4501, 'video': 4781, 'tag': 4395, 'tribut': 4615, 'jawan': 2364, 'look': 2638, 'promot': 3494, 'mean': 2775, 'photo': 3303, 'shown': 4046, 'second': 3937, 'divert': 1344, 'topic': 4566, 'friend': 1797, 'simpl': 4070, 'question': 3565, 'first': 1707, 'comment': 910, 'henc': 2069, 'respons': 3748, 'come': 903, 'side': 4055, 'howev': 2143, 'also': 168, 'doesnt': 1360, 'agre': 113, 'point': 3364, 'want': 4829, 'doval': 1378, 'son': 4149, 'nsa': 3068, 'ajit': 138, 'friday': 1795, 'polit': 3372, 'well': 4870, 'connect': 968, 'partner': 3235, 'pakistan': 3199, 'clear': 860, 'conflict': 957, 'interest': 2292, 'order': 3150, 'regim': 3687, 'joint': 2395, 'ventur': 4767, 'anti': 217, 'dhruv': 1264, 'fraud': 1780, 'nice': 3029, 'speech': 4181, 'har': 2011, 'shah': 3988, 'read': 3644, 'urdu': 4716, 'style': 4309, 'proud': 3515, 'hey': 2074, 'welcom': 4868, 'happi': 2009, 'mother': 2907, 'day': 1156, 'actual': 66, 'manmohan': 2725, 'singh': 4078, 'power': 3405, 'compar': 923, 'tell': 4447, 'lie': 2588, 'amongst': 185, 'media': 2782, 'get': 1864, 'away': 352, 'infact': 2251, 'close': 871, 'eye': 1604, 'consum': 983, 'product': 3479, 'suppli': 4343, 'chain': 763, 'navig': 2981, 'covid': 1057, 'challeng': 768, 'opportun': 3138, 'sneez': 4123, 'travel': 4604, 'ft': 1807, 'almost': 162, 'aisl': 137, 'achiev': 54, 'scientist': 3919, 'credit': 1081, 'self': 3953, 'week': 4862, 'post': 3394, 'horribl': 2128, 'jump': 2414, 'accid': 40, 'next': 3024, 'dirti': 1302, 'trick': 4616, 'piec': 3313, 'start': 4229, 'emerg': 1469, 'hand': 2001, 'ouch': 3160, 'beat': 435, 'sale': 3870, 'expect': 1579, 'coronaviru': 1022, 'pandem': 3204, 'due': 1407, 'onlin': 3120, 'shopper': 4035, 'st': 4210, 'terrifi': 4461, 'show': 4043, 'cough': 1039, 'spread': 4205, 'across': 59, 'creat': 1075, 'studi': 4303, 'far': 1636, 'indoor': 2242, 'found': 1770, 'cloud': 875, 'infect': 2252, 'other': 3158, 'sick': 4054, 'walk': 4825, 'critic': 1090, 'serious': 3975, 'gdp': 1849, 'even': 1540, 'doabl': 1355, 'consid': 972, 'great': 1935, 'ambani': 174, 'adani': 69, 'rest': 3749, 'indian': 2236, 'bjp': 528, 'presid': 3438, 'asset': 302, 'fold': 1739, 'wife': 4901, 'incom': 2225, 'grow': 1952, 'jay': 2365, 'firm': 1705, 'increas': 2227, 'time': 4532, 'singl': 4079, 'still': 4256, 'audac': 329, 'trend': 4612, 'million': 2835, 'forgot': 1756, 'rahul': 3591, 'gandhi': 1830, 'rememb': 3712, 'minimum': 2842, 'guarante': 1957, 'scheme': 3915, 'need': 2997, 'hour': 2138, 'dont': 1371, 'seriou': 3974, 'journalist': 2402, 'front': 1802, 'mirror': 2850, 'work': 4932, 'space': 4167, 'programm': 3487, 'bro': 631, 'chill': 811, 'celebr': 746, 'ahead': 118, 'chowkidar': 831, 'imagin': 2199, 'thing': 4494, 'help': 2065, 'tripl': 4620, 'price': 3450, 'night': 3033, 'gt': 1956, 'uk': 4663, 'arnab': 268, 'like': 2595, 'audit': 331, 'intern': 2294, 'provid': 3519, 'lead': 2549, 'prove': 3517, 'loyalti': 2658, 'plastic': 3339, 'bag': 381, 'shop': 4033, 'go': 1886, 'disabl': 1303, 'pleas': 3346, 'forward': 1767, 'physic': 3306, 'mental': 2797, 'strongest': 4296, 'posit': 3391, 'main': 2695, 'cannot': 708, 'cast': 730, 'us': 4723, 'asid': 291, 'longer': 2635, 'better': 482, 'stock': 4259, 'continu': 991, 'pick': 3308, 'food': 1742, 'home': 2112, 'may': 2766, 'put': 3550, 'lock': 2621, 'die': 1276, 'reach': 3641, 'said': 3864, 'drdo': 1390, 'talent': 4402, 'institut': 2280, 'jawaharl': 2363, 'nehru': 3004, 'bol': 563, 'diya': 1350, 'kya': 2504, 'hai': 1991, 'stomach': 4264, 'kill': 2470, 'sleep': 4100, 'environ': 1507, 'educ': 1445, 'health': 2045, 'care': 720, 'area': 260, 'narendra': 2969, 'invest': 2305, 'focu': 1735, 'prevent': 3446, 'migrat': 2824, 'urban': 4715, 'dramat': 1387, 'ridicul': 3780, 'di': 1265, 'shd': 4008, 'tomorrow': 4558, 'headlin': 2042, 'win': 4905, 'anoth': 215, 'journo': 2404, 'org': 3152, 'mass': 2746, 'know': 2489, 'journal': 2401, 'stand': 4223, 'arunach': 279, 'pradesh': 3411, 'claim': 851, 'opposit': 3141, 'parti': 3230, 'dishearten': 1322, 'haha': 1987, 'complet': 932, 'join': 2394, 'best': 477, 'vote': 4806, 'direct': 1298, 'strong': 4294, 'among': 184, 'less': 2575, 'belong': 462, 'govt': 1918, 'stupid': 4308, 'knowledg': 2490, 'observ': 3087, 'wrong': 4952, 'nawaz': 2982, 'sharif': 4001, 'issu': 2335, 'destroy': 1247, 'forest': 1752, 'balakot': 389, 'crow': 1097, 'use': 4727, 'arm': 266, 'forc': 1749, 'elector': 1455, 'gain': 1827, 'give': 1874, 'k': 2420, 'per': 3274, 'violat': 4788, 'rule': 3828, 'announc': 211, 'th': 4469, 'new': 3020, 'behaviour': 454, 'market': 2739, 'amaz': 172, 'thread': 4506, 'variou': 4754, 'decis': 1175, 'affect': 95, 'larg': 2530, 'scale': 3906, 'colleg': 896, 'organ': 3153, 'massiv': 2749, 'protest': 3513, 'held': 2060, 'congress': 965, 'rival': 3789, 'select': 3952, 'raid': 3595, 'display': 1328, 'eve': 1539, 'strongli': 4297, 'condemn': 948, 'misus': 2861, 'depart': 1226, 'shame': 3994, 'file': 1690, 'updat': 4706, 'land': 2525, 'lac': 2513, 'plot': 3351, 'fair': 1620, 'assess': 301, 'amp': 187, 'buy': 678, 'sell': 3957, 'contact': 985, 'stayhomestaysaf': 4247, 'iran': 2314, 'socialdistanc': 4131, 'prime': 3454, 'minist': 2843, 'imran': 2216, 'khan': 2463, 'ayushman': 359, 'bharat': 492, 'yojna': 4980, 'lakh': 2520, 'famili': 1630, 'gotten': 1912, 'benefit': 469, 'treatment': 4608, 'jammu': 2356, 'ralli': 3611, 'kaun': 2451, 'cong': 960, 'term': 4458, 'war': 4830, 'tak': 4397, 'sakta': 3868, 'itna': 2339, 'mein': 2792, 'wash': 4837, 'contain': 986, 'exagger': 1558, 'steal': 4251, 'tax': 4420, 'current': 1117, 'situat': 4088, 'scari': 3911, 'norm': 3054, 'enforc': 1486, 'establish': 1530, 'societi': 4133, 'park': 3226, 'form': 1758, 'governor': 1917, 'fan': 1632, 'done': 1369, 'anyth': 231, 'except': 1563, 'support': 4346, 'seem': 3948, 'case': 727, 'usual': 4730, 'believ': 458, 'teacher': 4427, 'saw': 3903, 'sometim': 4147, 'faith': 1621, 'mine': 2839, 'act': 60, 'without': 4919, 'wake': 4821, 'soon': 4153, 'ton': 4559, 'includ': 2223, 'pic': 3307, 'rob': 3797, 'yesterday': 4974, 'check': 795, 'youngster': 4986, 'kick': 2467, 'dynasti': 1418, 'busi': 670, 'forev': 1753, 'zero': 4996, 'corrupt': 1036, 'middlemen': 2819, 'solid': 4139, 'bank': 400, 'looter': 2641, 'default': 1186, 'hear': 2048, 'right': 3781, 'pappu': 3216, 'abl': 23, 'daddi': 1129, 'activ': 62, 'morn': 2902, 'suck': 4321, 'effect': 1446, 'failur': 1619, 'brother': 637, 'victori': 4780, 'jai': 2347, 'hind': 2087, 'ye': 4965, 'lol': 2630, 'chat': 789, 'earlier': 1423, 'will': 4904, 'learn': 2556, 'els': 1463, 'brilliant': 627, 'winner': 4910, 'sponsor': 4201, 'system': 4388, 'bit': 521, 'retail': 3756, 'shelv': 4019, 'difficult': 1282, 'high': 2078, 'capabl': 712, 'offer': 3101, 'job': 2389, 'twitter': 4650, 'name': 2964, 'anim': 209, 'shelter': 4017, 'left': 2562, 'starv': 4231, 'panic': 3207, 'donat': 1368, 'facebook': 1609, 'forget': 1754, 'reaction': 3643, 'stone': 4265, 'throw': 4514, 'incid': 2222, 'church': 836, 'fuck': 1809, 'kashmiri': 2450, 'pandit': 3205, 'comedian': 905, 'make': 2701, 'public': 3530, 'laugh': 2540, 'earn': 1424, 'naam': 2951, 'garbag': 1835, 'swachh': 4369, 'mark': 2738, 'liber': 2582, 'appear': 245, 'nowher': 3065, 'bhakt': 488, 'couldnt': 1041, 'find': 1699, 'bin': 514, 'road': 3794, 'that': 4477, 'took': 4563, 'gave': 1845, 'panicbuy': 3208, 'near': 2990, 'europ': 1537, 'stori': 4276, 'least': 2558, 'aur': 334, 'borisjohnson': 584, 'inform': 2257, 'cloth': 874, 'meant': 2776, 'essenti': 1529, 'amount': 186, 'ignor': 2189, 'hoarder': 2103, 'camera': 696, 'hit': 2098, 'huge': 2151, 'crimin': 1087, 'charg': 783, 'auspol': 335, 'covidau': 1058, 'woman': 4923, 'birth': 518, 'toiletpap': 4549, 'walmart': 4827, 'custom': 1121, 'cheer': 797, 'doctor': 1357, 'perfect': 3278, 'fact': 1613, 'tech': 4431, 'compani': 922, 'trust': 4631, 'crisi': 1089, 'ecommerc': 1436, 'superb': 4339, 'letter': 2579, 'lay': 2546, 'troubl': 4624, 'decent': 1173, 'bigotri': 507, 'unleash': 4693, 'social': 4129, 'street': 4285, 'ppl': 3407, 'hell': 2062, 'scare': 3910, 'keep': 2455, 'beg': 445, 'merci': 2802, 'pig': 3315, 'everyday': 1546, 'serv': 3976, 'let': 2578, 'anywher': 234, 'bengal': 470, 'permiss': 3285, 'campaign': 698, 'god': 1891, 'save': 3902, 'neta': 3014, 'shameless': 3995, 'capit': 714, 'sport': 4202, 'hike': 2084, 'closur': 873, 'amid': 181, 'accept': 37, 'step': 4253, 'small': 4111, 'trolley': 4622, 'long': 2634, 'seen': 3949, 'address': 74, 'heard': 2049, 'never': 3019, 'everi': 1544, 'rare': 3626, 'everyon': 1547, 'isnt': 2329, 'team': 4428, 'tirelessli': 4538, 'produc': 3478, 'test': 4466, 'sanit': 3883, 'proven': 3518, 'network': 3017, 'senior': 3964, 'anchor': 199, 'news': 3022, 'airport': 131, 'record': 3667, 'minut': 2848, 'arriv': 273, 'would': 4944, 'realli': 3653, 'funni': 1820, 'cut': 1122, 'british': 630, 'wish': 4915, 'upcom': 4705, 'loksabha': 2629, 'excel': 1562, 'advic': 90, 'two': 4652, 'bcoz': 429, 'jobless': 2390, 'girl': 1873, 'fun': 1816, 'soft': 4134, 'ok': 3110, 'cup': 1110, 'coffe': 888, 'monday': 2888, 'much': 2924, 'butter': 676, 'upset': 4712, 'noth': 3061, 'happen': 2008, 'around': 269, 'caus': 737, 'made': 2681, 'valu': 4747, 'list': 2604, 'end': 1481, 'wave': 4846, 'lose': 2644, 'parliament': 3227, 'highlight': 2082, 'requir': 3734, 'dr': 1382, 'base': 411, 'item': 2338, 'provis': 3521, 'stockpil': 4260, 'captain': 716, 'true': 4628, 'wait': 4817, 'ladi': 2515, 'taken': 4400, 'kid': 2469, 'school': 3916, 'three': 4509, 'law': 2544, 'seiz': 3951, 'hav': 2035, 'counter': 1044, 'sath': 3898, 'good': 1902, 'sir': 4082, 'bangalor': 398, 'employ': 1472, 'gener': 1854, 'etc': 1534, 'mp': 2916, 'decad': 1170, 'mohan': 2883, 'got': 1910, 'leader': 2550, 'commiss': 914, 'stop': 4269, 'way': 4847, 'tamil': 4407, 'nadu': 2952, 'wont': 4926, 'resign': 3739, 'sound': 4162, 'presenc': 3435, 'oppon': 3137, 'someth': 4146, 'agenda': 108, 'criticis': 1091, 'option': 3146, 'within': 4918, 'tri': 4613, 'previou': 3447, 'thought': 4502, 'tweet': 4645, 'hi': 2075, 'write': 4949, 'there': 4484, 'littl': 2608, 'box': 598, 'hehe': 2058, 'turn': 4643, 'venezuela': 4764, 'jaitley': 2353, 'given': 1875, 'poor': 3380, 'promis': 3492, 'moral': 2899, 'cell': 747, 'script': 3928, 'writer': 4950, 'bird': 517, 'word': 4930, 'guy': 1978, 'humour': 2159, 'easi': 1427, 'safe': 3855, 'immedi': 2201, 'access': 38, 'servic': 3978, 'mobil': 2870, 'devic': 1257, 'ever': 1543, 'incred': 2229, 'oper': 3132, 'brand': 610, 'dumb': 1410, 'profession': 3482, 'career': 721, 'greedi': 1939, 'upa': 4704, 'led': 2561, 'italian': 2337, 'missil': 2858, 'green': 1940, 'signal': 4060, 'patriot': 3251, 'sycoph': 4382, 'cant': 709, 'owner': 3181, 'therefor': 4485, 'vegetarian': 4759, 'egg': 1449, 'fascist': 1644, 'hail': 1992, 'hous': 2139, 'love': 2651, 'hate': 2031, 'recent': 3659, 'suppos': 4347, 'statement': 4236, 'candid': 705, 'offens': 3100, 'break': 615, 'fail': 1618, 'launch': 2541, 'isro': 2333, 'lost': 2647, 'radio': 3580, 'shoot': 4032, 'low': 2653, 'earth': 1425, 'orbit': 3149, 'bana': 393, 'plan': 3334, 'queen': 3563, 'mari': 2737, 'teenag': 4435, 'date': 1152, 'wear': 4854, 'certain': 756, 'kind': 2473, 'late': 2535, 'instanc': 2277, 'exactli': 1557, 'congi': 961, 'joker': 2397, 'wonder': 4925, 'accord': 45, 'countrymen': 1047, 'discuss': 1317, 'quit': 3572, 'similar': 4068, 'resid': 3738, 'south': 4165, 'understand': 4675, 'prompt': 3495, 'air': 127, 'strike': 4291, 'fix': 1713, 'match': 2755, 'hahaha': 1989, 'implement': 2207, 'poverti': 3404, 'gayi': 1848, 'bhi': 496, 'kar': 2437, 'dete': 1250, 'aaj': 4, 'kam': 2431, 'object': 3085, 'rural': 3834, 'creation': 1076, 'raha': 3587, 'nd': 2987, 'mislead': 2855, 'sure': 4350, 'raga': 3583, 'deliv': 1205, 'simpli': 4071, 'nyay': 3078, 'your': 4987, 'hindu': 2089, 'nationalist': 2976, 'punish': 3540, 'disgrac': 1319, 'scienc': 3917, 'initi': 2262, 'bold': 565, 'madhavan': 2682, 'nair': 2961, 'head': 2040, 'pride': 3452, 'set': 3980, 'fli': 1722, 'west': 4873, 'america': 178, 'bad': 378, 'wali': 4824, 'factori': 1615, 'dey': 1260, 'youth': 4988, 'creator': 1078, 'big': 503, 'take': 4398, 'risk': 3788, 'someon': 4145, 'namo': 2965, 'app': 242, 'oil': 3108, 'collaps': 893, 'sinc': 4073, 'coronavirusupd': 1030, 'inaugur': 2217, 'newli': 3021, 'construct': 981, 'templ': 4450, 'worri': 4937, 'manner': 2727, 'past': 3240, 'beyond': 484, 'remark': 3711, 'play': 3342, 'role': 3804, 'part': 3229, 'must': 2941, 'trade': 4583, 'rout': 3813, 'open': 3130, 'supplychain': 4345, 'aliv': 153, 'design': 1240, 'agricultur': 116, 'labour': 2512, 'staff': 4216, 'ensur': 1496, 'flow': 1732, 'info': 2256, 'cooper': 1008, 'preserv': 3437, 'global': 1879, 'asda': 284, 'u': 4655, 'toilet': 4548, 'roll': 3805, 'aldi': 148, 'qualiti': 3556, 'allow': 161, 'although': 170, 'cpi': 1067, 'china': 812, 'februari': 1667, 'demand': 1208, 'fresh': 1793, 'coronaoutbreak': 1019, 'children': 810, 'hungri': 2163, 'eat': 1433, 'free': 1784, 'meal': 2774, 'financi': 1698, 'desper': 1243, 'quarantin': 3558, 'idea': 2181, 'advantag': 86, 'ticket': 4525, 'reiter': 3695, 'quot': 3573, 'cheat': 793, 'pakistani': 3200, 'anyway': 233, 'armi': 267, 'pound': 3402, 'loc': 2618, 'surgic': 4354, 'terror': 4463, 'pad': 3189, 'captur': 717, 'colour': 898, 'danc': 1143, 'democraci': 1211, 'tune': 4641, 'real': 3646, 'coverag': 1056, 'extens': 1597, 'contract': 992, 'readi': 3645, 'nervou': 3012, 'co': 882, 'daughter': 1153, 'born': 585, 'push': 3549, 'fast': 1646, 'australia': 336, 'block': 546, 'hold': 2106, 'chines': 814, 'matter': 2762, 'differ': 1280, 'sahi': 3862, 'hain': 1993, 'sab': 3843, 'bhai': 487, 'reason': 3655, 'hua': 2146, 'plz': 3355, 'detail': 1249, 'pure': 3546, 'mumkin': 2935, 'chor': 824, 'worker': 4933, 'switch': 4381, 'curbsid': 1112, 'pickup': 3309, 'shipment': 4025, 'n': 2948, 'add': 71, 'page': 3190, 'fda': 1659, 'track': 4581, 'ive': 2340, 'spend': 4184, 'earli': 1422, 'yeah': 4967, 'bharath': 493, 'khangress': 2464, 'defens': 1190, 'leadership': 2551, 'sooo': 4155, 'meet': 2787, 'corona': 1016, 'outbreak': 3162, 'brought': 638, 'economi': 1438, 'halt': 1998, 'skyrocket': 4095, 'basic': 414, 'perish': 3283, 'paracetamol': 3219, 'deal': 1163, 'stayhomesavel': 4246, 'stayathom': 4244, 'proof': 3497, 'mission': 2859, 'shakti': 3991, 'imag': 2198, 'anna': 210, 'pl': 3330, 'confid': 953, 'equal': 1513, 'problem': 3472, 'solv': 4142, 'jee': 2372, 'suggest': 4327, 'express': 1595, 'invent': 2303, 'tight': 4528, 'bell': 461, 'apt': 257, 'stay': 4243, 'favour': 1656, 'matlab': 2759, 'repli': 3727, 'fight': 1687, 'loos': 2639, 'import': 2210, 'battl': 421, 'ah': 117, 'month': 2894, 'bias': 500, 'faster': 1647, 'old': 3112, 'wherev': 4886, 'came': 695, 'empti': 1476, 'fridg': 1796, 'plenti': 3349, 'administr': 77, 'uturn': 4737, 'cow': 1064, 'urgenc': 4718, 'lok': 2628, 'sabha': 3844, 'poll': 3376, 'sen': 3960, 'sold': 4136, 'known': 2491, 'share': 4000, 'protect': 3512, 'gear': 1850, 'attend': 322, 'door': 1373, 'brief': 624, 'publicli': 3531, 'dem': 1207, 'viru': 4793, 'worst': 4941, 'condit': 949, 'toh': 4546, 'messag': 2806, 'fir': 1703, 'mention': 2798, 'ndtv': 2989, 'link': 2600, 'bring': 628, 'folk': 1740, 'ban': 392, 'coronaviruspandem': 1028, 'miss': 2857, 'mom': 2884, 'birthday': 519, 'told': 4553, 'pray': 3416, 'pak': 3197, 'bullet': 656, 'rang': 3617, 'aay': 9, 'yojana': 4979, 'attack': 319, 'histori': 2096, 'independ': 2233, 'develop': 1256, 'congressi': 966, 'polici': 3371, 'haunt': 2034, 'friendli': 1798, 'blind': 543, 'chanc': 772, 'highli': 2081, 'unlik': 4695, 'lower': 2654, 'correct': 1033, 'stat': 4234, 'gone': 1900, 'press': 3440, 'clean': 857, 'remov': 3716, 'ineffici': 2248, 'mat': 2752, 'loss': 2646, 'appeal': 244, 'amethi': 180, 'gujrat': 1972, 'award': 351, 'waah': 4813, 'assur': 308, 'peac': 3261, 'regul': 3691, 'duti': 1415, 'convey': 1002, 'massag': 2748, 'driver': 1398, 'ed': 1441, 'agar': 105, 'bark': 408, 'yr': 4991, 'muslim': 2940, 'fals': 1627, 'aftr': 103, 'prison': 3461, 'convict': 1003, 'trader': 4584, 'jharkhand': 2380, 'drama': 1386, 'actor': 64, 'tabl': 4392, 'momentum': 2886, 'gather': 1843, 'pace': 3185, 'msme': 2922, 'export': 1592, 'consumpt': 984, 'yogi': 4978, 'convinc': 1004, 'special': 4176, 'enter': 1497, 'elit': 1462, 'club': 877, 'blindli': 544, 'havent': 2036, 'film': 1692, 'maker': 2702, 'valid': 4745, 'famou': 1631, 'surviv': 4361, 'cost': 1037, 'five': 1712, 'sirf': 4083, 'nahi': 2956, 'baki': 387, 'btw': 644, 'game': 1829, 'changer': 776, 'rattl': 3634, 'rush': 3835, 'exampl': 1561, 'venom': 4765, 'sourc': 4164, 'enemi': 1484, 'hoard': 2102, 'treat': 4607, 'tp': 4579, 'coronapocalyps': 1020, 'round': 3812, 'strategi': 4283, 'specif': 4178, 'didnt': 1275, 'advani': 85, 'founder': 1772, 'super': 4338, 'neg': 3000, 'employe': 1473, 'pass': 3236, 'thank': 4473, 'dare': 1148, 'attempt': 321, 'fighter': 1688, 'jet': 2377, 'camp': 697, 'dear': 1165, 'call': 693, 'debat': 1167, 'analyst': 193, 'nda': 2988, 'modiji': 2881, 'face': 1608, 'sachin': 3848, 'kindli': 2475, 'answer': 216, 'publish': 3532, 'hindustan': 2091, 'venu': 4768, 'delhi': 1201, 'wire': 4912, 'inspit': 2275, 'effort': 1448, 'unabl': 4666, 'degrad': 1195, 'benifit': 473, 'master': 2750, 'pay': 3255, 'fake': 1622, 'expos': 1593, 'daili': 1130, 'lot': 2648, 'respond': 3747, 'vision': 4797, 'pension': 3271, 'niti': 3038, 'ayog': 358, 'request': 3733, 'fund': 1818, 'ji': 2383, 'loot': 2640, 'vacanc': 4739, 'engin': 1488, 'sarkar': 3895, 'purpos': 3548, 'text': 4468, 'subject': 4311, 'prior': 3458, 'pehl': 3266, 'bole': 566, 'gst': 1955, 'huh': 2152, 'ad': 67, 'enough': 1495, 'rajiv': 3607, 'formula': 1762, 'billion': 512, 'wealth': 4852, 'sonia': 4151, 'becam': 438, 'richest': 3777, 'vadra': 4743, 'billionair': 513, 'indulg': 2245, 'chori': 825, 'line': 2599, 'manag': 2716, 'pack': 3186, 'financ': 1697, 'arun': 278, 'republ': 3730, 'milk': 2833, 'buyer': 679, 'reserv': 3737, 'quota': 3574, 'light': 2594, 'mar': 2734, 'wednesday': 4860, 'woolworth': 4929, 'cole': 891, 'stoppanicbuy': 4271, 'coronavirusau': 1023, 'gonna': 1901, 'host': 2132, 'saturday': 3900, 'probabl': 3470, 'calcul': 691, 'went': 4872, 'what': 4878, 'defeat': 1187, 'drag': 1384, 'choic': 819, 'abroad': 26, 'dishonest': 1323, 'integr': 2284, 'aris': 264, 'substanti': 4318, 'field': 1686, 'peak': 3262, 'exam': 1559, 'hope': 2127, 'latest': 2537, 'model': 2875, 'code': 887, 'complaint': 931, 'railway': 3597, 'approv': 255, 'process': 3475, 'distribut': 1339, 'metro': 2812, 'station': 4238, 'cover': 1055, 'crowd': 1098, 'especi': 1527, 'women': 4924, 'pro': 3467, 'age': 106, 'altern': 169, 'sentenc': 3969, 'courag': 1049, 'freedom': 1786, 'defenc': 1188, 'utter': 4735, 'moment': 2885, 'bye': 681, 'swim': 4377, 'frontlin': 1803, 'might': 2823, 'nurs': 3073, 'teach': 4426, 'vulner': 4811, 'sea': 3930, 'strip': 4292, 'david': 1154, 'research': 3736, 'deliveri': 1206, 'adapt': 70, 'epidem': 1511, 'britain': 629, 'fed': 1668, 'shot': 4039, 'precis': 3423, 'technic': 4432, 'gimmick': 1871, 'newspap': 3023, 'scam': 3907, 'screw': 3927, 'hindi': 2088, 'mrmodi': 2918, 'mind': 2837, 'talk': 4403, 'boss': 588, 'fame': 1629, 'account': 46, 'worldwid': 4936, 'rapid': 3623, 'evil': 1552, 'heavi': 2054, 'beaten': 436, 'everywher': 1550, 'hong': 2122, 'slump': 4110, 'chowkidaar': 830, 'sky': 4094, 'place': 3331, 'nomin': 3046, 'canadian': 701, 'glad': 1876, 'isol': 2330, 'trip': 4619, 'drop': 1400, 'fellow': 1677, 'citizen': 846, 'collect': 895, 'along': 164, 'sin': 4072, 'propag': 3499, 'hindutva': 2092, 'infiltr': 2253, 'dictatorship': 1273, 'whole': 4895, 'level': 2580, 'homework': 2115, 'ew': 1555, 'pull': 3534, 'dirt': 1301, 'pledg': 3348, 'build': 651, 'prosper': 3510, 'interact': 2291, 'pen': 3268, 'secret': 3939, 'note': 3060, 'instead': 2279, 'foreign': 1751, 'regard': 3686, 'joke': 2396, 'remind': 3713, 'badli': 380, 'socal': 4127, 'bastion': 417, 'wayanad': 4848, 'kerala': 2460, 'biggest': 505, 'wasnt': 4840, 'contest': 989, 'cute': 1123, 'pictur': 3310, 'book': 575, 'bore': 582, 'begin': 448, 'advertis': 89, 'suprem': 4349, 'court': 1051, 'bribe': 621, 'trump': 4630, 'american': 179, 'damag': 1138, 'pollut': 3377, 'pre': 3418, 'exist': 1575, 'bankrupt': 402, 'insan': 2269, 'deficit': 1192, 'higher': 2079, 'ga': 1824, 'behalf': 451, 'touch': 4570, 'men': 2796, 'varanasi': 4752, 'chit': 817, 'culprit': 1106, 'polic': 3370, 'judg': 2408, 'rel': 3697, 'unit': 4689, 'north': 3056, 'seat': 3934, 'otherwis': 3159, 'prakash': 3414, 'reflect': 3679, 'shift': 4022, 'pattern': 3252, 'significantli': 4062, 'tend': 4454, 'fit': 1711, 'narr': 2972, 'pain': 3192, 'flight': 1723, 'train': 4591, 'bu': 645, 'rental': 3720, 'car': 718, 'action': 61, 'bail': 384, 'applic': 250, 'patra': 3250, 'subsidi': 4317, 'cook': 1005, 'hard': 2013, 'freeli': 1787, 'superior': 4340, 'indira': 2239, 'atalji': 311, 'shield': 4021, 'shortli': 4038, 'typic': 4654, 'mutual': 2943, 'sign': 4059, 'petit': 3291, 'togeth': 4545, 'urgent': 4719, 'sight': 4058, 'prioriti': 3460, 'mufti': 2926, 'abdullah': 16, 'king': 2476, 'azad': 360, 'kashmir': 2449, 'channel': 777, 'telecast': 4442, 'meerut': 2786, 'paid': 3191, 'accus': 49, 'spi': 4188, 'present': 3436, 'honour': 2124, 'bhushan': 498, 'sadli': 3853, 'economist': 1439, 'profess': 3481, 'survey': 4360, 'argu': 262, 'univers': 4691, 'mad': 2678, 'mostli': 2906, 'priyanka': 3465, 'vijay': 4784, 'mask': 2744, 'bowl': 597, 'feel': 1673, 'ananth': 197, 'kumar': 2501, 'bco': 428, 'tejasvi': 4438, 'jona': 2398, 'absolut': 28, 'bed': 441, 'goodnight': 1904, 'enjoy': 1492, 'cheap': 791, 'spare': 4171, 'rub': 3823, 'ground': 1950, 'swami': 4370, 'organis': 3154, 'feat': 1663, 'complex': 933, 'conduct': 950, 'extrem': 1602, 'speed': 4182, 'transform': 4596, 'histor': 2095, 'reform': 3680, 'da': 1127, 'filth': 1694, 'whine': 4889, 'schedul': 3914, 'statu': 4240, 'six': 4089, 'commun': 920, 'assam': 297, 'pend': 3269, 'fulfil': 1813, 'tenur': 4456, 'crazi': 1073, 'healthi': 2047, 'hygien': 2170, 'tip': 4536, 'villag': 4786, 'half': 1996, 'lifetim': 2592, 'alloc': 160, 'crook': 1093, 'ani': 207, 'engag': 1487, 'heat': 2052, 'argument': 263, 'sub': 4310, 'magistr': 2686, 'refus': 3685, 'verifi': 4771, 'gloriou': 1883, 'shit': 4027, 'rajasthan': 3604, 'sorri': 4158, 'stoog': 4267, 'sit': 4086, 'feet': 1674, 'thrown': 4515, 'excit': 1567, 'chemist': 800, 'compens': 927, 'approach': 253, 'symbol': 4384, 'interview': 2299, 'atm': 314, 'andhra': 202, 'urg': 4717, 'escap': 1525, 'guid': 1964, 'bless': 542, 'particip': 3232, 'laud': 2539, 'prepar': 3431, 'similarli': 4069, 'industri': 2246, 'angri': 206, 'certainli': 757, 'avail': 342, 'grate': 1932, 'lunch': 2665, 'succeed': 4319, 'foot': 1746, 'bridg': 623, 'stretch': 4289, 'hang': 2007, 'final': 1696, 'israel': 2332, 'blame': 536, 'odd': 3096, 'involv': 2310, 'skip': 4093, 'expert': 1584, 'insight': 2272, 'estat': 1531, 'analysi': 192, 'index': 2234, 'januari': 2360, 'washington': 4838, 'thousand': 4503, 'demonetis': 1216, 'destruct': 1248, 'sector': 3942, 'afraid': 99, 'nonsens': 3050, 'mock': 2871, 'deserv': 1236, 'decid': 1174, 'blow': 551, 'confer': 951, 'explain': 1586, 'reveal': 3764, 'local': 2619, 'execut': 1570, 'measur': 2778, 'control': 996, 'hater': 2032, 'rather': 3631, 'historian': 2097, 'clariti': 854, 'naxal': 2983, 'cricket': 1085, 'ireland': 2316, 'child': 808, 'rant': 3619, 'sensibl': 3966, 'baba': 368, 'slash': 4098, 'sanitis': 3884, 'disgust': 1320, 'brainwash': 608, 'whatev': 4879, 'antimodi': 221, 'loan': 2616, 'waiver': 4820, 'hundr': 2161, 'farmer': 1639, 'desh': 1237, 'mai': 2693, 'raj': 3601, 'unhappi': 4685, 'liquor': 2603, 'boom': 576, 'bar': 405, 'bust': 673, 'roof': 3806, 'feku': 1675, 'choos': 822, 'eas': 1426, 'rank': 3618, 'stuff': 4305, 'croni': 1092, 'seri': 3973, 'realis': 3649, 'lal': 2521, 'bahadur': 382, 'tht': 4517, 'aap': 7, 'inch': 2221, 'defam': 1185, 'negoti': 3003, 'everyth': 1548, 'properti': 3503, 'agent': 109, 'citi': 845, 'indic': 2237, 'agenc': 107, 'rent': 3719, 'fall': 1624, 'cent': 748, 'terribl': 4460, 'fulli': 1815, 'legend': 2567, 'classic': 856, 'surgeri': 4353, 'chokidar': 820, 'aunti': 333, 'outlet': 3166, 'non': 3047, 'hub': 2147, 'wisdom': 4913, 'resolv': 3743, 'ganga': 1833, 'water': 4845, 'bangladesh': 399, 'mm': 2866, 'miser': 2852, 'paper': 3215, 'household': 2140, 'selfish': 3954, 'intent': 2290, 'stamp': 4221, 'anyon': 230, 'young': 4983, 'fool': 1744, 'voter': 4807, 'cleaner': 858, 'replac': 3726, 'machin': 2676, 'amit': 183, 'gandhinagar': 1831, 'dictat': 1272, 'dig': 1284, 'settl': 3981, 'learnt': 2557, 'kejri': 2456, 'cri': 1083, 'wors': 4938, 'percent': 3275, 'lover': 2652, 'extra': 1600, 'x': 4957, 'dude': 1406, 'beer': 443, 'slot': 4106, 'luck': 2662, 'clearli': 862, 'clueless': 879, 'airway': 134, 'york': 4981, 'caught': 736, 'monkey': 2892, 'smile': 4116, 'limit': 2598, 'cours': 1050, 'mouth': 2912, 'core': 1013, 'perform': 3280, 'studio': 4304, 'version': 4772, 'shri': 4048, 'slogan': 4105, 'kuch': 2499, 'secular': 3943, 'section': 3941, 'net': 3013, 'wide': 4900, 'state': 4235, 'combin': 902, 'apolog': 240, 'result': 3754, 'gang': 1832, 'evm': 1553, 'count': 1043, 'digniti': 1288, 'bet': 478, 'alien': 151, 'race': 3577, 'emot': 1471, 'pathet': 3246, 'piti': 3325, 'member': 2793, 'seek': 3947, 'pellet': 3267, 'gun': 1973, 'arrang': 271, 'align': 152, 'mood': 2897, 'rhetor': 3774, 'nowaday': 3064, 'interpret': 2296, 'insid': 2271, 'murder': 2936, 'duo': 1413, 'sympathi': 4385, 'mile': 2828, 'infrastructur': 2259, 'built': 653, 'highway': 2083, 'estim': 1532, 'profit': 3485, 'risen': 3787, 'quarter': 3561, 'period': 3282, 'flat': 1716, 'wat': 4842, 'upper': 4711, 'till': 4530, 'breath': 618, 'transfer': 4595, 'directli': 1299, 'crore': 1095, 'mere': 2803, 'bottom': 591, 'lord': 2643, 'ram': 3612, 'nasti': 2974, 'sake': 3867, 'ultim': 4664, 'shirt': 4026, 'tool': 4564, 'bang': 397, 'theori': 4482, 'episod': 1512, 'paint': 3193, 'auction': 328, 'mumbai': 2934, 'buzz': 680, 'suspend': 4366, 'dine': 1292, 'facil': 1611, 'pizza': 3329, 'restaur': 3750, 'modern': 2876, 'fiscal': 1709, 'yet': 4975, 'imposs': 2213, 'narend': 2967, 'either': 1451, 'r': 3575, 'summer': 4332, 'capitalist': 715, 'bear': 434, 'arrest': 272, 'heaven': 2053, 'threat': 4507, 'enabl': 1478, 'art': 275, 'belt': 464, 'separatist': 3972, 'lack': 2514, 'hunger': 2162, 'weekend': 4863, 'awak': 349, 'renam': 3717, 'gover': 1915, 'shut': 4050, 'realiti': 3651, 'divid': 1345, 'yay': 4964, 'sunday': 4334, 'ruin': 3827, 'avoid': 346, 'kcr': 2453, 'kalyan': 2430, 'vacat': 4740, 'maa': 2673, 'madam': 2679, 'previous': 3448, 'bollywood': 567, 'atleast': 313, 'stash': 4233, 'outsid': 3170, 'recov': 3668, 'democrat': 1212, 'button': 677, 'wit': 4916, 'phase': 3297, 'lowest': 2655, 'four': 1773, 'star': 4226, 'review': 3768, 'canada': 700, 'liar': 2581, 'march': 2735, 'mcc': 2772, 'propaganda': 3500, 'depriv': 1231, 'attent': 323, 'holder': 2107, 'relat': 3698, 'cross': 1096, 'asian': 290, 'hr': 2144, 'rais': 3600, 'gift': 1869, 'hazard': 2038, 'honor': 2123, 'cancel': 702, 'exempt': 1571, 'definit': 1194, 'youll': 4982, 'voic': 4802, 'insult': 2282, 'gujarati': 1970, 'obsess': 3088, 'dog': 1361, 'pair': 3194, 'surg': 4352, 'slow': 4107, 'slip': 4104, 'opec': 3129, 'delay': 1199, 'key': 2461, 'plu': 3352, 'futur': 1821, 'tonight': 4562, 'keen': 2454, 'immens': 2202, 'jacket': 2344, 'fraudster': 1781, 'awar': 350, 'rajnath': 3608, 'dar': 1146, 'sushma': 4364, 'swaraj': 4371, 'sangh': 3881, 'parivar': 3225, 'pretend': 3443, 'asleep': 293, 'saath': 3842, 'appeas': 246, 'experi': 1582, 'salut': 3874, 'devot': 1259, 'brag': 604, 'stalin': 4219, 'life': 2590, 'hatr': 2033, 'sibal': 4053, 'sting': 4258, 'london': 2632, 'director': 1300, 'becoz': 440, 'rich': 3776, 'blood': 549, 'childhood': 809, 'sister': 4085, 'geniu': 1855, 'send': 3963, 'quickli': 3569, 'jail': 2348, 'b': 362, 'finish': 1702, 'bought': 592, 'hole': 2108, 'satisfi': 3899, 'honesti': 2120, 'legaci': 2565, 'spray': 4204, 'tradit': 4585, 'gap': 1834, 'airstrik': 133, 'program': 3486, 'abil': 21, 'lawyer': 2545, 'filthi': 1695, 'layer': 2547, 'crib': 1084, 'energi': 1485, 'mate': 2756, 'visionari': 4798, 'guidanc': 1965, 'adityanath': 75, 'predict': 3424, 'season': 3933, 'kit': 2481, 'ventil': 4766, 'strateg': 4282, 'aw': 347, 'v': 4738, 'struggl': 4300, 'despit': 1245, 'hospit': 2131, 'cope': 1011, 'tbh': 4423, 'inspir': 2274, 'natur': 2978, 'sole': 4138, 'lynch': 2671, 'hypocrisi': 2173, 'businessmen': 672, 'chant': 778, 'father': 1651, 'constitu': 979, 'gujarat': 1969, 'pressur': 3442, 'drug': 1402, 'medic': 2783, 'progress': 3488, 'here': 2071, 'sent': 3968, 'river': 3790, 'author': 339, 'project': 3489, 'group': 1951, 'explan': 1587, 'foolish': 1745, 'often': 3105, 'evolv': 1554, 'husband': 2167, 'piersmorgan': 3314, 'shatrughan': 4006, 'sinha': 4080, 'foul': 1769, 'languag': 2527, 'burnol': 667, 'dint': 1294, 'leak': 2553, 'pm': 3356, 'helm': 2064, 'met': 2807, 'listen': 2605, 'arrog': 274, 'remain': 3710, 'revolut': 3771, 'adopt': 81, 'popular': 3385, 'path': 3244, 'truth': 4632, 'marri': 2740, 'dilut': 1290, 'merchandis': 2800, 'poster': 3396, 'biopic': 516, 'karo': 2444, 'bia': 499, 'erad': 1519, 'aadhaar': 0, 'opportunist': 3139, 'staunch': 4242, 'volunt': 4805, 'ego': 1450, 'mill': 2834, 'kanpur': 2435, 'gautam': 1844, 'bcz': 430, 'prob': 3469, 'impos': 2212, 'sanction': 3879, 'superpow': 4342, 'bunch': 660, 'diy': 1349, 'vika': 4785, 'kiya': 2484, 'hum': 2154, 'rahe': 3588, 'kaam': 2421, 'expens': 1581, 'assembl': 299, 'class': 855, 'apart': 235, 'irrespect': 2320, 'nitin': 3039, 'kudo': 2500, 'chair': 764, 'row': 3815, 'goon': 1907, 'rough': 3811, 'storm': 4277, 'stapl': 4225, 'increasingli': 2228, 'spike': 4189, 'ingredi': 2261, 'inc': 2218, 'jumla': 2413, 'sec': 3936, 'paki': 3198, 'hero': 2072, 'clip': 869, 'asham': 285, 'bash': 412, 'riot': 3784, 'proper': 3501, 'dynast': 1417, 'arent': 261, 'strengthen': 4287, 'genuin': 1858, 'purchas': 3545, 'scammer': 3908, 'websit': 4858, 'excess': 1564, 'necess': 2993, 'bewar': 483, 'phish': 3300, 'email': 1466, 'click': 865, 'staysaf': 4248, 'hypocrit': 2174, 'healthcar': 2046, 'custodi': 1120, 'offic': 3102, 'dedic': 1180, 'pretti': 3444, 'vice': 4778, 'chairman': 765, 'defend': 1189, 'spot': 4203, 'reveng': 3765, 'didi': 1274, 'frustrat': 1806, 'ambit': 176, 'sever': 3983, 'strain': 4279, 'phobia': 3301, 'photoshop': 3305, 'saudi': 3901, 'dislik': 1325, 'islam': 2325, 'hat': 2029, 'bb': 423, 'hors': 2130, 'veteran': 4775, 'reddi': 3673, 'desir': 1241, 'butcher': 674, 'wala': 4822, 'leftist': 2563, 'chennai': 801, 'session': 3979, 'realiz': 3652, 'defin': 1193, 'compass': 925, 'monger': 2890, 'uniti': 4690, 'fare': 1637, 'hatao': 2030, 'ipod': 2313, 'neighbour': 3008, 'stress': 4288, 'eagerli': 1420, 'odisha': 3097, 'humbl': 2156, 'sambit': 3876, 'jaya': 2366, 'district': 1340, 'view': 4782, 'load': 2615, 'coronacrisi': 1017, 'stophoard': 4270, 'particular': 3233, 'strength': 4286, 'honest': 2119, 'kisan': 2478, 'divin': 1347, 'mataram': 2754, 'australian': 337, 'tumbl': 4640, 'abki': 22, 'yea': 4966, 'bigger': 504, 'thiev': 4492, 'thief': 4490, 'bhagat': 486, 'loser': 2645, 'blog': 548, 'site': 4087, 'patel': 3243, 'zee': 4995, 'vivek': 4801, 'oberoi': 3084, 'curb': 1111, 'distanc': 1334, 'screen': 3926, 'instal': 2276, 'exchief': 1566, 'nod': 3044, 'former': 1761, 'ago': 112, 'demonstr': 1219, 'wil': 4902, 'introduc': 2301, 'annual': 213, 'dept': 1232, 'rudrapur': 3826, 'congrat': 963, 'dollar': 1363, 'petrol': 3292, 'notic': 3062, 'loworbit': 2656, 'relev': 3702, 'preach': 3419, 'weak': 4849, 'prais': 3413, 'convert': 1001, 'mantra': 2730, 'achh': 53, 'din': 1291, 'snap': 4121, 'finger': 1701, 'eras': 1520, 'memori': 2795, 'chief': 807, 'investig': 2306, 'pose': 3390, 'await': 348, 'sigh': 4057, 'anymor': 229, 'theatr': 4479, 'comedi': 904, 'none': 3049, 'goe': 1894, 'banana': 394, 'boo': 574, 'wanna': 4828, 'deep': 1182, 'copi': 1012, 'death': 1166, 'analyz': 195, 'impact': 2206, 'elderli': 1453, 'nh': 3026, 'taxi': 4421, 'packag': 3187, 'pan': 3203, 'averag': 344, 'joe': 2391, 'rip': 3785, 'scream': 3925, 'xd': 4958, 'fat': 1649, 'yaar': 4961, 'gaddar': 1825, 'jnu': 2388, 'ahm': 120, 'amidst': 182, 'acceler': 36, 'download': 1380, 'bottl': 590, 'wine': 4908, 'wing': 4909, 'dalal': 1134, 'opinion': 3134, 'flop': 1728, 'standard': 4224, 'abt': 30, 'gov': 1914, 'wud': 4955, 'thi': 4489, 'hollow': 2111, 'restor': 3752, 'brain': 606, 'written': 4951, 'awesom': 353, 'wrote': 4953, 'mistak': 2860, 'buck': 647, 'blast': 537, 'vehicl': 4761, 'ball': 391, 'greed': 1938, 'hardship': 2019, 'hahahaha': 1990, 'trait': 4592, 'hysteria': 2175, 'discount': 1312, 'luxuri': 2670, 'hotel': 2135, 'ancient': 200, 'delici': 1203, 'libtard': 2584, 'commit': 916, 'ambassador': 175, 'repres': 3729, 'vand': 4750, 'id': 2180, 'barkha': 409, 'obviou': 3089, 'lick': 2586, 'boot': 578, 'coz': 1066, 'tweeter': 4646, 'uncertainti': 4671, 'reopen': 3721, 'statist': 4239, 'incompet': 2226, 'idiot': 2186, 'russia': 3836, 'vaccin': 4741, 'ration': 3632, 'tho': 4499, 'flour': 1730, 'dal': 1133, 'onion': 3119, 'salt': 3873, 'fri': 1794, 'east': 1430, 'unpreced': 4699, 'boost': 577, 'height': 2059, 'deve': 1255, 'gowda': 1919, 'pal': 3202, 'allianc': 159, 'thrash': 4505, 'karan': 2438, 'union': 4687, 'stronger': 4295, 'alli': 158, 'clock': 870, 'conclud': 945, 'output': 3168, 'compromis': 936, 'oott': 3127, 'normal': 3055, 'danger': 1145, 'budget': 649, 'brahmin': 605, 'jaipur': 2350, 'brigad': 625, 'mahesh': 2692, 'joshi': 2400, 'hair': 1994, 'grey': 1943, 'retir': 3760, 'fought': 1768, 'entir': 1501, 'ahh': 119, 'hun': 2160, 'kiss': 2480, 'catch': 733, 'im': 2197, 'red': 3672, 'carpet': 722, 'alleg': 155, 'naidu': 2959, 'whose': 4897, 'moron': 2903, 'ministeri': 2844, 'materi': 2757, 'grade': 1924, 'baap': 365, 'who': 4893, 'uddhav': 4659, 'thackeray': 4471, 'stuck': 4301, 'cold': 890, 'nyc': 3079, 'suicid': 4328, 'disappear': 1305, 'crpf': 1100, 'citizenship': 847, 'farm': 1638, 'undermin': 4674, 'drive': 1396, 'ontario': 3122, 'abandon': 13, 'clown': 876, 'queu': 3566, 'western': 4874, 'enorm': 1494, 'somewher': 4148, 'middl': 2818, 'difficulti': 1283, 'eastern': 1432, 'annum': 214, 'retard': 3759, 'kejriw': 2457, 'sad': 3852, 'stimulu': 4257, 'corpor': 1032, 'bitch': 522, 'gop': 1908, 'sardar': 3891, 'plagu': 3332, 'patna': 3249, 'mahatma': 2691, 'uncl': 4672, 'boy': 599, 'he': 2039, 'harm': 2021, 'virus': 4794, 'practic': 3409, 'mayb': 2769, 'skill': 4091, 'innov': 2266, 'creativ': 1077, 'cafe': 689, 'nitish': 3040, 'handl': 2003, 'search': 3932, 'bread': 614, 'wow': 4947, 'tissu': 4539, 'dead': 1160, 'gujju': 1971, 'warm': 4834, 'impress': 2214, 'short': 4036, 'meat': 2779, 'mama': 2712, 'pitroda': 3326, 'destin': 1246, 'min': 2836, 'fantast': 1635, 'modifi': 2879, 'equat': 1514, 'reject': 3696, 'offici': 3103, 'wall': 4826, 'total': 4569, 'credibl': 1080, 'carrier': 724, 'trap': 4602, 'fish': 1710, 'tank': 4409, 'chemic': 799, 'manufactur': 2732, 'lockdown': 2622, 'headach': 2041, 'handout': 2004, 'dent': 1225, 'ideal': 2182, 'cbn': 740, 'recogn': 3663, 'wherea': 4885, 'virtual': 4792, 'si': 4052, 'nobodi': 3043, 'hire': 2094, 'hinduism': 2090, 'modibjp': 2878, 'itali': 2336, 'number': 3071, 'crash': 1072, 'hurri': 2165, 'crude': 1102, 'comfort': 906, 'speak': 4174, 'ongo': 3118, 'e': 1419, 'encourag': 1480, 'convers': 1000, 'religi': 3708, 'adventur': 87, 'logic': 2625, 'ditch': 1342, 'vadodara': 4742, 'consult': 982, 'rajan': 3603, 'chota': 828, 'hoon': 2126, 'haan': 1983, 'iron': 2317, 'fastest': 1648, 'champion': 771, 'josh': 2399, 'owe': 3179, 'g': 1823, 'weaker': 4851, 'immun': 2204, 'elder': 1452, 'hardli': 2018, 'function': 1817, 'hesit': 2073, 'militari': 2832, 'transport': 4601, 'dinner': 1293, 'naa': 2950, 'jeet': 2373, 'kart': 2445, 'speaker': 4175, 'rafal': 3582, 'foundat': 1771, 'laid': 2518, 'endors': 1483, 'thingi': 4495, 'yeh': 4971, 'inflat': 2254, 'koi': 2493, 'hoti': 2136, 'bada': 379, 'hota': 2134, 'mata': 2753, 'tongu': 4561, 'wast': 4841, 'neglect': 3001, 'mnrega': 2867, 'contribut': 995, 'factor': 1614, 'suit': 4329, 'later': 2536, 'conveni': 998, 'silent': 4065, 'dmk': 1352, 'hon': 2117, 'fill': 1691, 'grand': 1927, 'phone': 3302, 'percept': 3277, 'sharab': 3999, 'behav': 452, 'third': 4497, 'immatur': 2200, 'bodi': 559, 'appreci': 252, 'util': 4731, 'resourc': 3745, 'youv': 4990, 'hasnt': 2028, 'tini': 4535, 'room': 3807, 'oop': 3126, 'leg': 2564, 'airforc': 129, 'territori': 4462, 'bay': 422, 'chaiwala': 766, 'manifesto': 2723, 'random': 3616, 'twist': 4648, 'hashtag': 2027, 'outrag': 3169, 'epic': 1510, 'assum': 307, 'giant': 1868, 'flag': 1714, 'midst': 2821, 'deadli': 1161, 'violenc': 4789, 'trillion': 4618, 'era': 1518, 'proudli': 3516, 'occur': 3094, 'mr': 2917, 'uneduc': 4679, 'relax': 3700, 'wk': 4920, 'c': 683, 'mac': 2675, 'john': 2392, 'bureau': 663, 'postpon': 3397, 'slowdown': 4108, 'margin': 2736, 'board': 556, 'breakthrough': 617, 'sticker': 4255, 'cbd': 738, 'handsanit': 2005, 'nite': 3037, 'pill': 3317, 'alon': 163, 'refer': 3678, 'conspiraci': 976, 'legal': 2566, 'nhi': 3027, 'hue': 2149, 'rhe': 3773, 'sach': 3847, 'advisor': 92, 'sam': 3875, 'kapil': 2436, 'mum': 2933, 'chocol': 818, 'panicbuyinguk': 3209, 'background': 375, 'kept': 2459, 'fruit': 1805, 'veget': 4758, 'wholesal': 4896, 'mayawati': 2768, 'abhinandan': 19, 'papu': 3217, 'hahah': 1988, 'baat': 367, 'confus': 959, 'nidhi': 3030, 'ujjwala': 4662, 'tejaswi': 4439, 'surya': 4362, 'tejaswini': 4440, 'drain': 1385, 'hal': 1995, 'salari': 3869, 'neither': 3009, 'shadow': 3987, 'merit': 2804, 'quarantinelif': 3559, 'ff': 1684, 'victim': 4779, 'recruit': 3670, 'tactic': 4394, 'cultur': 1107, 'invit': 2308, 'extend': 1596, 'afternoon': 102, 'currenc': 1116, 'overwhelm': 3177, 'freez': 1788, 'valuabl': 4748, 'freezer': 1789, 'appli': 249, 'bloodi': 550, 'nake': 2963, 'debri': 1168, 'gadkari': 1826, 'accompani': 43, 'pidi': 3312, 'spoke': 4198, 'haryana': 2026, 'spbsp': 4173, 'kinda': 2474, 'liter': 2606, 'absurd': 29, 'wale': 4823, 'kyun': 2506, 'mid': 2817, 'soar': 4126, 'bogu': 561, 'lure': 2667, 'locat': 2620, 'kahan': 2426, 'quantiti': 3557, 'beauti': 437, 'moran': 2900, 'border': 581, 'sensit': 3967, 'seal': 3931, 'smart': 4113, 'f': 1605, 'harmoni': 2022, 'disinfect': 1324, 'wipe': 4911, 'soap': 4125, 'combat': 901, 'karnataka': 2443, 'seed': 3946, 'fascism': 1643, 'divers': 1343, 'chao': 779, 'addit': 73, 'bigot': 506, 'antiindia': 219, 'hurt': 2166, 'medicin': 2784, 'aim': 125, 'goi': 1896, 'expenditur': 1580, 'brexit': 620, 'editor': 1444, 'metal': 2808, 'hot': 2133, 'throat': 4512, 'stranger': 4281, 'smell': 4114, 'error': 1523, 'lame': 2524, 'england': 1489, 'airlin': 130, 'concentr': 940, 'proxi': 3522, 'welfar': 4869, 'tourism': 4573, 'reli': 3703, 'exorbit': 1577, 'hello': 2063, 'mam': 2711, 'rajdeep': 3605, 'aspect': 294, 'trial': 4614, 'somehow': 4144, 'greater': 1936, 'manchest': 2717, 'mode': 2874, 'restock': 3751, 'leap': 2555, 'actress': 65, 'commod': 918, 'exchang': 1565, 'baar': 366, 'dil': 1289, 'phir': 3299, 'lone': 2633, 'ice': 2178, 'groceryshop': 1947, 'shortag': 4037, 'cartoon': 726, 'psycholog': 3527, 'behavior': 453, 'forb': 1748, 'lutyen': 2668, 'pump': 3537, 'jihadi': 2385, 'articl': 276, 'flipkart': 1724, 'rafael': 3581, 'nuclear': 3070, 'explos': 1591, 'sarcast': 3890, 'discours': 1313, 'centuri': 753, 'sikh': 4063, 'christian': 834, 'pit': 3323, 'prefer': 3425, 'uttar': 4733, 'domin': 1366, 'rabid': 3576, 'bull': 655, 'gen': 1853, 'hide': 2077, 'mandatori': 2719, 'washyourhand': 4839, 'unsaf': 4701, 'document': 1359, 'stolen': 4263, 'helicopt': 2061, 'withdraw': 4917, 'petti': 3294, 'op': 3128, 'useless': 4728, 'specul': 4180, 'intend': 2288, 'reelect': 3677, 'pmoindia': 3359, 'narendramodi': 2970, 'alert': 150, 'janta': 2359, 'curfew': 1114, 'frm': 1801, 'rumour': 3830, 'format': 1760, 'investor': 2307, 'cash': 728, 'ill': 2193, 'twit': 4649, 'fam': 1628, 'silenc': 4064, 'react': 3642, 'particularli': 3234, 'demo': 1210, 'lender': 2572, 'presstitut': 3441, 'ride': 3779, 'loud': 2650, 'dam': 1137, 'activist': 63, 'plea': 3344, 'ach': 50, 'wah': 4815, 'fate': 1650, 'biryani': 520, 'beef': 442, 'inde': 2232, 'swear': 4373, 'scene': 3913, 'mahagathbandhan': 2688, 'bihar': 508, 'sentiment': 3970, 'brave': 611, 'martyr': 2742, 'backstab': 376, 'properli': 3502, 'cream': 1074, 'affili': 96, 'april': 256, 'teleprompt': 4445, 'mamata': 2713, 'council': 1042, 'flaw': 1718, 'judiciari': 2410, 'cbi': 739, 'rbi': 3639, 'chest': 802, 'thump': 4521, 'al': 143, 'sharp': 4003, 'potu': 3401, 'dump': 1411, 'http': 2145, 'coward': 1065, 'feedback': 1672, 'evid': 1551, 'towel': 4576, 'outer': 3164, 'pli': 3350, 'dispos': 1329, 'perhap': 3281, 'lab': 2509, 'ministri': 2845, 'affair': 94, 'ran': 3614, 'begun': 449, 'nearest': 2991, 'rocket': 3802, 'stun': 4306, 'pulwama': 3536, 'dairi': 1132, 'hug': 2150, 'greatest': 1937, 'dunga': 1412, 'aka': 139, 'younger': 4984, 'balanc': 390, 'toe': 4544, 'figur': 1689, 'surpris': 4357, 'gud': 1960, 'ravish': 3637, 'germani': 1862, 'frequent': 1792, 'vast': 4755, 'varieti': 4753, 'nota': 3059, 'content': 988, 'arabia': 259, 'tap': 4410, 'constitut': 980, 'demolish': 1213, 'confirm': 955, 'shower': 4045, 'clue': 878, 'interfer': 2293, 'jealousi': 2370, 'reward': 3772, 'draft': 1383, 'soup': 4163, 'ten': 4453, 'fortun': 1765, 'gate': 1841, 'happili': 2010, 'chowkidari': 832, 'assert': 300, 'mamta': 2714, 'tsunami': 4634, 'judgement': 2409, 'stayhom': 4245, 'achiv': 55, 'nehruji': 3005, 'spain': 4169, 'interven': 2297, 'straight': 4278, 'crap': 1071, 'bomb': 570, 'pile': 3316, 'peanut': 3263, 'edg': 1442, 'reliev': 3707, 'demonet': 1215, 'ideolog': 2185, 'rn': 3793, 'maddi': 2680, 'titl': 4540, 'ur': 4714, 'poem': 3363, 'web': 4856, 'mehul': 2790, 'choksi': 821, 'alright': 167, 'necessari': 2994, 'incumb': 2230, 'occupi': 3093, 'shout': 4042, 'clarifi': 853, 'pseudo': 3525, 'intellectu': 2286, 'origin': 3156, 'bbc': 424, 'kim': 2472, 'imp': 2205, 'googl': 1906, 'doc': 1356, 'retweet': 3762, 'featur': 1665, 'rupani': 3832, 'spark': 4172, 'lalit': 2522, 'grip': 1944, 'anxieti': 224, 'depress': 1230, 'whistl': 4890, 'admit': 80, 'draw': 1389, 'clearanc': 861, 'outlook': 3167, 'stabl': 4213, 'arab': 258, 'worth': 4942, 'truli': 4629, 'digit': 1286, 'belief': 457, 'improv': 2215, 'dnt': 1354, 'maharashtra': 2690, 'jealou': 2369, 'kanhaiya': 2433, 'bluff': 554, 'insecur': 2270, 'chosen': 827, 'pocket': 3361, 'theatric': 4480, 'sacrific': 3851, 'determin': 1252, 'ala': 144, 'saraswat': 3888, 'termin': 4459, 'agri': 115, 'bother': 589, 'diff': 1279, 'complain': 930, 'sunshin': 4337, 'popul': 3384, 'aircraft': 128, 'mla': 2865, 'communist': 921, 'wuhan': 4956, 'jesu': 2376, 'toiletpaperapocalyps': 4550, 'betray': 481, 'nurtur': 3074, 'yechuri': 4970, 'premium': 3430, 'comparison': 924, 'crise': 1088, 'hitler': 2099, 'pakoda': 3201, 'freak': 1783, 'mandir': 2720, 'certif': 758, 'den': 1220, 'stopstockpil': 4272, 'panicshop': 3211, 'socialdistanac': 4130, 'hardwork': 2020, 'inclus': 2224, 'june': 2415, 'shall': 3992, 'tour': 4572, 'cec': 744, 'shape': 3998, 'guru': 1975, 'illiter': 2195, 'shamelessli': 3996, 'rescu': 3735, 'peddl': 3264, 'chapter': 781, 'english': 1490, 'heart': 2050, 'hunt': 2164, 'instruct': 2281, 'oppos': 3140, 'iaf': 2176, 'navi': 2980, 'cabinet': 686, 'honbl': 2118, 'bill': 511, 'justic': 2418, 'mo': 2868, 'ya': 4960, 'lo': 2614, 'mi': 2814, 'raghuram': 3586, 'asshol': 303, 'raghu': 3585, 'gold': 1898, 'hve': 2168, 'canvass': 710, 'medium': 2785, 'struck': 4298, 'prasad': 3415, 'sack': 3849, 'bsf': 641, 'quick': 3568, 'chamcha': 770, 'tesco': 4465, 'gr': 1921, 'startup': 4230, 'hint': 2093, 'orop': 3157, 'type': 4653, 'soldier': 4137, 'bpl': 602, 'chacha': 760, 'tha': 4470, 'acquir': 57, 'vajpaye': 4744, 'noon': 3052, 'pour': 3403, 'shoe': 4031, 'ml': 2864, 'tough': 4571, 'takeaway': 4399, 'hmm': 2100, 'resort': 3744, 'na': 2949, 'threaten': 4508, 'provinc': 3520, 'declin': 1178, 'trucker': 4627, 'recess': 3660, 'blockchain': 547, 'bitcoin': 523, 'illog': 2196, 'academ': 34, 'weird': 4867, 'repeat': 3724, 'sacrif': 3850, 'mandat': 2718, 'dark': 1149, 'emin': 1470, 'systemat': 4389, 'centr': 750, 'submit': 4312, 'solut': 4141, 'relief': 3706, 'bare': 406, 'bolt': 569, 'khud': 2465, 'gay': 1846, 'mafia': 2683, 'kabhi': 2422, 'apn': 236, 'fade': 1617, 'liy': 2611, 'jagan': 2345, 'player': 3343, 'remot': 3715, 'maam': 2674, 'tej': 4437, 'sanghi': 3882, 'individu': 2241, 'movement': 2914, 'duffer': 1408, 'staysafestayhom': 4249, 'tdp': 4424, 'paus': 3253, 'chaukidar': 790, 'buddi': 648, 'feed': 1671, 'tear': 4429, 'calm': 694, 'branch': 609, 'shud': 4049, 'afford': 97, 'commerci': 912, 'mockeri': 2872, 'bsp': 643, 'cuz': 1124, 'mindset': 2838, 'shouldnt': 4041, 'arvind': 280, 'electr': 1456, 'kyu': 2505, 'qualifi': 3555, 'entranc': 1504, 'credenti': 1079, 'nautanki': 2979, 'rid': 3778, 'chai': 762, 'sarab': 3887, 'sar': 3886, 'cov': 1054, 'unknown': 4692, 'transmiss': 4599, 'mortgag': 2905, 'greet': 1941, 'presidenti': 3439, 'gallon': 1828, 'fuel': 1811, 'covidiot': 1061, 'illeg': 2194, 'immigr': 2203, 'dna': 1353, 'empow': 1474, 'npa': 3066, 'irrelev': 2319, 'princ': 3455, 'silli': 4066, 'sahab': 3860, 'thug': 4519, 'raw': 3638, 'rage': 3584, 'identifi': 2184, 'pitch': 3324, 'latter': 2538, 'livelihood': 2610, 'motiv': 2909, 'structur': 4299, 'appar': 243, 'hilari': 2085, 'iam': 2177, 'kurnool': 2503, 'lmao': 2613, 'parent': 3223, 'chariti': 784, 'smh': 4115, 'threw': 4510, 'bolo': 568, 'bengaluru': 472, 'jack': 2343, 'inr': 2268, 'usd': 4726, 'shelterinplac': 4018, 'hype': 2171, 'scamster': 3909, 'doom': 1372, 'hack': 1985, 'discov': 1314, 'renew': 3718, 'cattl': 735, 'extent': 1598, 'disrupt': 1332, 'mil': 2826, 'rice': 3775, 'wheat': 4882, 'puls': 3535, 'gut': 1976, 'upto': 4713, 'deng': 1222, 'aspir': 295, 'disappoint': 1306, 'mail': 2694, 'phd': 3298, 'consist': 974, 'unfortun': 4684, 'warn': 4835, 'cure': 1113, 'flood': 1726, 'surplu': 4356, 'fever': 1682, 'toll': 4555, 'mig': 2822, 'plane': 3335, 'wind': 4906, 'manipul': 2724, 'skin': 4092, 'kroger': 2498, 'glove': 1884, 'rs': 3819, 'dat': 1150, 'bekind': 456, 'reuter': 3763, 'goal': 1889, 'whenev': 4884, 'dawood': 1155, 'beta': 479, 'roam': 3796, 'zindabad': 4997, 'farooq': 1640, 'accur': 48, 'minu': 2847, 'acronym': 58, 'garden': 1836, 'weed': 4861, 'sweep': 4375, 'weather': 4855, 'bjpmodi': 529, 'narrow': 2973, 'wtf': 4954, 'song': 4150, 'platform': 3341, 'whoever': 4894, 'certifi': 759, 'ppe': 3406, 'damodar': 1140, 'oh': 3106, 'mann': 2726, 'firstli': 1708, 'feasibl': 1662, 'socialist': 4132, 'peep': 3265, 'dalit': 1135, 'bachao': 372, 'perman': 3284, 'bidet': 502, 'cleanli': 859, 'germ': 1860, 'religion': 3709, 'cadr': 688, 'anil': 208, 'drink': 1395, 'propos': 3506, 'westminst': 4875, 'bite': 524, 'temporarili': 4452, 'snake': 4120, 'fox': 1775, 'digest': 1285, 'planet': 3336, 'astrolog': 309, 'lift': 2593, 'sirji': 4084, 'admir': 78, 'godi': 1893, 'demon': 1214, 'jd': 2368, 'crush': 1104, 'minor': 2846, 'legisl': 2568, 'mysteri': 2946, 'cake': 690, 'mix': 2863, 'ironi': 2318, 'morrison': 2904, 'africa': 100, 'entertain': 1499, 'bargain': 407, 'precaut': 3420, 'thursday': 4523, 'visibl': 4796, 'driven': 1397, 'event': 1541, 'truck': 4626, 'despic': 1244, 'delet': 1200, 'cr': 1068, 'gross': 1949, 'bulk': 654, 'upgrad': 4707, 'numer': 3072, 'gasolin': 1840, 'tea': 4425, 'plant': 3338, 'spoken': 4199, 'mei': 2791, 'liya': 2612, 'stroke': 4293, 'eci': 1435, 'shiv': 4028, 'sena': 3961, 'slam': 4096, 'stanc': 4222, 'grace': 1923, 'ghandi': 1865, 'mantri': 2731, 'antimissil': 220, 'importantli': 2211, 'demonitis': 1218, 'supplier': 4344, 'domest': 1365, 'knew': 2487, 'counti': 1045, 'malaysia': 2703, 'besid': 476, 'patient': 3248, 'tere': 4457, 'bahut': 383, 'michael': 2815, 'panel': 3206, 'examin': 1560, 'cool': 1007, 'ceo': 754, 'resili': 3740, 'handi': 2002, 'garibi': 1839, 'robot': 3799, 'yadav': 4962, 'akhilesh': 140, 'fav': 1653, 'q': 3553, 'associ': 306, 'professor': 3483, 'capac': 713, 'teeth': 4436, 'favorit': 1655, 'max': 2764, 'ugh': 4660, 'attitud': 324, 'surround': 4359, 'hema': 2068, 'malini': 2706, 'guilti': 1967, 'gig': 1870, 'recoveri': 3669, 'taught': 4418, 'student': 4302, 'grant': 1930, 'lesson': 2577, 'leagu': 2552, 'coin': 889, 'lifestyl': 2591, 'baad': 364, 'tab': 4390, 'tum': 4639, 'lag': 2516, 'unbeliev': 4668, 'frenzi': 1791, 'advis': 91, 'obama': 3082, 'coronavirususa': 1031, 'industrialist': 2247, 'parcel': 3222, 'rupe': 3833, 'lier': 2589, 'babi': 370, 'assist': 305, 'chip': 816, 'exclus': 1568, 'tie': 4526, 'curv': 1119, 'august': 332, 'doubt': 1377, 'chutiya': 837, 'uniqu': 4688, 'soul': 4161, 'theyll': 4486, 'tom': 4556, 'omg': 3115, 'ca': 684, 'pharmaci': 3295, 'sheet': 4013, 'toiletpapercrisi': 4551, 'resist': 3741, 'woh': 4921, 'fetch': 1681, 'saffron': 3859, 'naya': 2984, 'contrast': 994, 'com': 900, 'xxxxx': 4959, 'bal': 388, 'dole': 1362, 'verg': 4770, 'plank': 3337, 'transit': 4597, 'goyal': 1920, 'pet': 3290, 'forgiv': 1755, 'fault': 1652, 'obvious': 3090, 'psu': 3526, 'coronavirusoutbreak': 1027, 'pilot': 3319, 'tortur': 4568, 'region': 3688, 'dc': 1158, 'coupl': 1048, 'chicken': 805, 'pork': 3386, 'blue': 553, 'chees': 798, 'pasta': 3241, 'orgasm': 3155, 'sabka': 3845, 'offend': 3099, 'monitor': 2891, 'ai': 122, 'ofcours': 3098, 'contrari': 993, 'passeng': 3237, 'misadventur': 2851, 'sort': 4159, 'lt': 2660, 'dan': 1142, 'command': 908, 'flash': 1715, 'meanwhil': 2777, 'dena': 1221, 'verdict': 4769, 'degre': 1196, 'compet': 928, 'pvt': 3552, 'ltd': 2661, 'modishah': 2882, 'justifi': 2419, 'asia': 289, 'bum': 658, 'shi': 4020, 'traitor': 4593, 'ero': 1521, 'abhi': 18, 'netanyahu': 3015, 'window': 4907, 'onlineshop': 3121, 'jait': 2352, 'bypass': 682, 'zone': 4999, 'nose': 3058, 'abolish': 24, 'attorney': 325, 'malign': 2705, 'ship': 4024, 'cabl': 687, 'reduc': 3674, 'nephew': 3011, 'beneficiari': 468, 'entiti': 1502, 'deterr': 1253, 'exhibit': 1574, 'bump': 659, 'lobbi': 2617, 'mega': 2788, 'launder': 2542, 'extradit': 1601, 'diamantair': 1268, 'punjab': 3541, 'receiv': 3658, 'maximum': 2765, 'potenti': 3400, 'elimin': 1461, 'yo': 4976, 'em': 1465, 'experienc': 1583, 'specialist': 4177, 'lend': 2571, 'deposit': 1229, 'ashwin': 288, 'cheater': 794, 'lollipop': 2631, 'moon': 2898, 'conclus': 946, 'l': 2507, 'recommend': 3666, 'rap': 3621, 'openli': 3131, 'bat': 418, 'smoke': 4117, 'aggress': 110, 'devil': 1258, 'depend': 1227, 'coal': 884, 'sez': 3985, 'profil': 3484, 'statesman': 4237, 'drastic': 1388, 'piddi': 3311, 'shutdown': 4051, 'subscrib': 4314, 'erosnow': 1522, 'subscript': 4315, 'sha': 3986, 'allah': 154, 'orat': 3148, 'clap': 852, 'cm': 880, 'backfir': 374, 'grew': 1942, 'bid': 501, 'milit': 2831, 'multipl': 2932, 'bullshit': 657, 'tat': 4416, 'recip': 3661, 'donald': 1367, 'surjewala': 4355, 'older': 3113, 'scrambl': 3922, 'traffic': 4586, 'okay': 3111, 'ham': 1999, 'appropri': 254, 'corner': 1015, 'valley': 4746, 'lion': 2601, 'revers': 3767, 'prospect': 3509, 'feb': 1666, 'freebi': 1785, 'pantri': 3213, 'larger': 2531, 'payment': 3258, 'transact': 4594, 'stage': 4217, 'own': 3180, 'sum': 4331, 'occas': 3092, 'joy': 2405, 'taunt': 4419, 'jibe': 2384, 'que': 3562, 'sweet': 4376, 'central': 751, 'wet': 4876, 'bravo': 612, 'california': 692, 'kal': 2428, 'tragedi': 4587, 'ais': 135, 'saab': 3839, 'defer': 1191, 'consequ': 970, 'nazi': 2985, 'youtub': 4989, 'toiletpaperpan': 4552, 'covidcanada': 1059, 'humili': 2157, 'feder': 1669, 'stoop': 4268, 'disclos': 1311, 'guha': 1963, 'intellect': 2285, 'stood': 4266, 'spoil': 4197, 'texa': 4467, 'spring': 4207, 'treasuri': 4606, 'temporari': 4451, 'asap': 282, 'crime': 1086, 'an': 189, 'junk': 2417, 'needi': 2998, 'atal': 310, 'bihari': 509, 'malya': 2710, 'magic': 2685, 'mallaya': 2708, 'viabl': 4777, 'poorest': 3382, 'duck': 1405, 'thr': 4504, 'aayega': 11, 'tr': 4580, 'music': 2939, 'pricegoug': 3451, 'amazon': 173, 'seller': 3958, 'heartbreak': 2051, 'doubl': 1376, 'thrive': 4511, 'bootlick': 580, 'versu': 4773, 'theprint': 4483, 'dress': 1393, 'prayer': 3417, 'entrepreneur': 1505, 'stall': 4220, 'sustain': 4368, 'chhattisgarh': 803, 'forecast': 1750, 'anticip': 218, 'mount': 2910, 'favor': 1654, 'gupta': 1974, 'enhanc': 1491, 'novel': 3063, 'relianc': 3705, 'slave': 4099, 'rail': 3596, 'ism': 2328, 'understood': 4676, 'wht': 4898, 'breakfast': 616, 'log': 2624, 'accomplish': 44, 'internet': 2295, 'diplomaci': 1296, 'constantli': 978, 'spent': 4185, 'competit': 929, 'size': 4090, 'color': 897, 'coronaviruslockdown': 1026, 'donkey': 1370, 'thx': 4524, 'televis': 4446, 'uplift': 4708, 'expand': 1578, 'whatsapp': 4880, 'root': 3808, 'convent': 999, 'pdp': 3260, 'boast': 557, 'embarrass': 1467, 'soch': 4128, 'factual': 1616, 'abv': 32, 'nvr': 3076, 'monster': 2893, 'murli': 2937, 'manohar': 2728, 'incent': 2220, 'shine': 4023, 'urself': 4722, 'somebodi': 4143, 'dialogu': 1267, 'iphon': 2311, 'thru': 4516, 'beti': 480, 'bright': 626, 'clerk': 863, 'burn': 666, 'banerje': 396, 'worthi': 4943, 'tall': 4405, 'penni': 3270, 'ftc': 1808, 'lap': 2528, 'nope': 3053, 'habit': 1984, 'adult': 83, 'angel': 203, 'compel': 926, 'grab': 1922, 'bonu': 573, 'regist': 3689, 'intoler': 2300, 'indra': 2243, 'bgt': 485, 'analog': 190, 'nagpur': 2954, 'rao': 3620, 'remonetis': 3714, 'neutral': 3018, 'kickstart': 2468, 'northeast': 3057, 'pmo': 3358, 'prada': 3410, 'intellig': 2287, 'shld': 4029, 'uniform': 4686, 'dozen': 1381, 'plead': 3345, 'cousin': 1053, 'goug': 1913, 'pa': 3184, 'jersey': 2375, 'dad': 1128, 'karyakarta': 2448, 'subramanian': 4313, 'ramp': 3613, 'largest': 2532, 'symptom': 4386, 'unless': 4694, 'sbi': 3905, 'ongc': 3117, 'choukidar': 829, 'aww': 354, 'babe': 369, 'circl': 840, 'aayog': 12, 'graduat': 1925, 'warrior': 4836, 'youngest': 4985, 'globe': 1880, 'reduct': 3675, 'blown': 552, 'tin': 4534, 'idk': 2187, 'neech': 2996, 'sydney': 4383, 'weekli': 4864, 'theyr': 4487, 'task': 4414, 'maha': 2687, 'kumaraswami': 2502, 'karna': 2442, 'rude': 3825, 'blackmail': 533, 'mba': 2771, 'aiim': 124, 'goswami': 1909, 'allevi': 157, 'manoj': 2729, 'viral': 4791, 'sanjay': 3885, 'entitl': 1503, 'categori': 734, 'marriag': 2741, 'gotta': 1911, 'spew': 4186, 'pmmodi': 3357, 'atmospher': 315, 'arithmet': 265, 'rd': 3640, 'matur': 2763, 'forum': 1766, 'broke': 634, 'apologis': 241, 'spam': 4170, 'dose': 1374, 'sa': 3838, 'stabil': 4212, 'warehous': 4832, 'up': 4703, 'irrespons': 2321, 'robert': 3798, 'silver': 4067, 'committe': 917, 'sri': 4209, 'stadium': 4215, 'wage': 4814, 'potato': 3399, 'dharma': 1262, 'jam': 2354, 'assault': 298, 'waiv': 4819, 'hmmm': 2101, 'polar': 3368, 'heavili': 2055, 'weigh': 4865, 'neighbor': 3006, 'beach': 432, 'unlimit': 4696, 'adjust': 76, 'shree': 4047, 'saeed': 3854, 'shankar': 3997, 'stake': 4218, 'eventu': 1542, 'relationship': 3699, 'dread': 1391, 'translat': 4598, 'consider': 973, 'suitabl': 4330, 'opt': 3143, 'aviat': 345, 'minim': 2841, 'perfectli': 3279, 'bleed': 541, 'dri': 1394, 'watchman': 4844, 'oath': 3081, 'ceremoni': 755, 'cd': 742, 'infra': 2258, 'stick': 4254, 'holiday': 2110, 'backward': 377, 'hill': 2086, 'veloc': 4762, 'decreas': 1179, 'flee': 1720, 'politic': 3373, 'oblig': 3086, 'talli': 4406, 'sat': 3896, 'intens': 2289, 'antin': 222, 'tackl': 4393, 'forgotten': 1757, 'reviv': 3770, 'reput': 3732, 'vest': 4774, 'lil': 2596, 'client': 866, 'nigeria': 3031, 'laptop': 2529, 'monument': 2896, 'attract': 326, 'tourist': 4574, 'thn': 4498, 'tv': 4644, 'raho': 3590, 'nut': 3075, 'wheel': 4883, 'mitron': 2862, 'deliber': 1202, 'qualif': 3554, 'equip': 1515, 'ny': 3077, 'nj': 3041, 'fled': 1719, 'taxpay': 4422, 'helper': 2066, 'salesman': 3871, 'everytim': 1549, 'whn': 4892, 'gel': 1851, 'boycott': 600, 'alcohol': 147, 'neerav': 2999, 'can': 699, 'she': 4009, 'suspect': 4365, 'pool': 3378, 'sampl': 3877, 'stunt': 4307, 'dbt': 1157, 'weve': 4877, 'restrict': 3753, 'midnight': 2820, 'heal': 2044, 'headquart': 2043, 'leo': 2574, 'mess': 2805, 'msm': 2921, 'ate': 312, 'h': 1981, 'buri': 665, 'cart': 725, 'bc': 427, 'rapidli': 3624, 'kannada': 2434, 'rahulji': 3593, 'paycheck': 3256, 'privat': 3463, 'optic': 3144, 'sardesai': 3892, 'probe': 3471, 'cycl': 1125, 'amend': 177, 'reign': 3694, 'attach': 318, 'karti': 2447, 'chidambaram': 806, 'aadmi': 2, 'ba': 363, 'slept': 4101, 'insur': 2283, 'swing': 4379, 'tension': 4455, 'chart': 786, 'gestur': 1863, 'azhar': 361, 'masood': 2745, 'anytim': 232, 'myth': 2947, 'reap': 3654, 'coviduk': 1063, 'center': 749, 'chose': 826, 'lpg': 2659, 'aadhar': 1, 'personnel': 3288, 'km': 2485, 'disturb': 1341, 'piyush': 3328, 'basi': 413, 'grass': 1931, 'punch': 3538, 'bio': 515, 'shashi': 4005, 'tharoor': 4476, 'disast': 1307, 'ear': 1421, 'segment': 3950, 'boil': 562, 'nightmar': 3034, 'noodl': 3051, 'diet': 1278, 'chandrababu': 774, 'grown': 1953, 'twice': 4647, 'stream': 4284, 'uber': 4657, 'seattl': 3935, 'offset': 3104, 'smriti': 4118, 'sabotag': 3846, 'honestli': 2121, 'disastr': 1308, 'dm': 1351, 'lucki': 2663, 'differenti': 1281, 'method': 2810, 'indirectli': 2240, 'vital': 4800, 'jean': 2371, 'kitchen': 2482, 'upon': 4710, 'guard': 1958, 'syndrom': 4387, 'horror': 2129, 'esp': 1526, 'servant': 3977, 'prevail': 3445, 'ipl': 2312, 'flower': 1733, 'realdonaldtrump': 3647, 'tast': 4415, 'sunris': 4336, 'overnight': 3174, 'commission': 915, 'admiss': 79, 'sheer': 4012, 'troll': 4621, 'mayor': 2770, 'la': 2508, 'gem': 1852, 'piss': 3322, 'russian': 3837, 'lazi': 2548, 'spine': 4191, 'abc': 14, 'induc': 2244, 'nationwid': 2977, 'panick': 3210, 'prop': 3498, 'angl': 205, 'mudra': 2925, 'shoulder': 4040, 'embrac': 1468, 'french': 1790, 'spirit': 4193, 'diplomat': 1297, 'scrap': 3923, 'concept': 941, 'whatsoev': 4881, 'dismiss': 1326, 'bout': 595, 'refuge': 3683, 'merchant': 2801, 'grandfath': 1928, 'hyper': 2172, 'shed': 4010, 'applaud': 248, 'sun': 4333, 'celeb': 745, 'column': 899, 'prosecut': 3507, 'fugit': 1812, 'allegedli': 156, 'nail': 2960, 'til': 4529, 'p': 3183, 'kolkata': 2494, 'brown': 639, 'onto': 3123, 'par': 3218, 'wed': 4859, 'quiet': 3570, 'pink': 3321, 'album': 146, 'loyal': 2657, 'indigen': 2238, 'singer': 4077, 'curiou': 1115, 'airspac': 132, 'deed': 1181, 'bjd': 527, 'conclav': 944, 'acknowledg': 56, 'radic': 3579, 'coordin': 1009, 'proactiv': 3468, 'hardcor': 2014, 'licens': 2585, 'litr': 2607, 'diamond': 1269, 'chineseviru': 815, 'friendship': 1799, 'scenario': 3912, 'lectur': 2560, 'checkout': 796, 'tremend': 4611, 'unrest': 4700, 'genocid': 1856, 'storag': 4274, 'pata': 3242, 'ghar': 1866, 'iss': 2334, 'print': 3457, 'barrel': 410, 'akhnoor': 141, 'liquid': 2602, 'encount': 1479, 'plummet': 3353, 'logo': 2627, 'veg': 4756, 'fb': 1658, 'safer': 3857, 'van': 4749, 'goodwil': 1905, 'southern': 4166, 'floor': 1727, 'focus': 1736, 'herald': 2070, 'wouldnt': 4945, 'endless': 1482, 'crop': 1094, 'map': 2733, 'appoint': 251, 'innoc': 2265, 'eu': 1536, 'accident': 41, 'separ': 3971, 'massacr': 2747, 'shatter': 4007, 'nit': 3036, 'sarkaar': 3894, 'wise': 4914, 'saal': 3840, 'forth': 1764, 'abe': 17, 'sincer': 4074, 'masterstrok': 2751, 'chowkidhar': 833, 'pin': 3320, 'kais': 2427, 'houston': 2141, 'mushroom': 2938, 'onward': 3124, 'mynt': 2945, 'reliabl': 3704, 'correctli': 1034, 'chopper': 823, 'belov': 463, 'ble': 539, 'realist': 3650, 'wen': 4871, 'thankyou': 4474, 'sushil': 4363, 'rai': 3594, 'swiss': 4380, 'rubbish': 3824, 'portray': 3389, 'jii': 2386, 'aid': 123, 'bastard': 416, 'toler': 4554, 'demean': 1209, 'mileston': 2830, 'crucial': 1101, 'fanci': 1634, 'anyay': 226, 'kisi': 2479, 'bhakti': 491, 'coast': 886, 'breed': 619, 'fabric': 1606, 'soil': 4135, 'acheiv': 52, 'junior': 2416, 'anyhow': 228, 'stack': 4214, 'biz': 526, 'debt': 1169, 'mommi': 2887, 'glori': 1881, 'bounc': 593, 'spokesperson': 4200, 'distress': 1338, 'opp': 3135, 'exposur': 1594, 'mute': 2942, 'polaris': 3369, 'optimist': 3145, 'congr': 962, 'pivot': 3327, 'mini': 2840, 'lotu': 2649, 'michigan': 2816, 'elig': 1460, 'dailyhunt': 1131, 'disagre': 1304, 'dhoni': 1263, 'detect': 1251, 'squar': 4208, 'cud': 1105, 'meme': 2794, 'reel': 3676, 'accommod': 42, 'beggar': 447, 'describ': 1235, 'addict': 72, 'bengali': 471, 'covidpandem': 1062, 'regular': 3692, 'mera': 2799, 'suppress': 4348, 'urmila': 4721, 'theme': 4481, 'rot': 3810, 'trail': 4589, 'georg': 1859, 'distort': 1336, 'snatch': 4122, 'tuesday': 4636, 'con': 939, 'apni': 238, 'strict': 4290, 'charter': 787, 'infront': 2260, 'yearli': 4969, 'priorit': 3459, 'ravi': 3636, 'damodarda': 1141, 'lean': 2554, 'sainsburi': 3865, 'ocado': 3091, 'reassur': 3656, 'cnn': 881, 'boat': 558, 'casualti': 731, 'naiv': 2962, 'psa': 3524, 'bailout': 385, 'mechan': 2780, 'upload': 4709, 'circul': 842, 'suffici': 4325, 'disput': 1330, 'tone': 4560, 'german': 1861, 'puppi': 3543, 'outcom': 3163, 'town': 4577, 'sare': 3893, 'band': 395, 'narendar': 2968, 'revenu': 3766, 'cancer': 703, 'machineri': 2677, 'slowli': 4109, 'doctrin': 1358, 'repay': 3723, 'dubai': 1404, 'singapor': 4076, 'japan': 2361, 'korea': 2496, 'ident': 2183, 'frankli': 1779, 'solidar': 4140, 'overal': 3172, 'throughout': 4513, 'retain': 3757, 'hafiz': 1986, 'rape': 3622, 'spree': 4206, 'republican': 3731, 'maga': 2684, 'yell': 4972, 'koraput': 2495, 'rajeev': 3606, 'vendor': 4763, 'ugli': 4661, 'ador': 82, 'lalu': 2523, 'smaller': 4112, 'divis': 1348, 'mukt': 2929, 'bake': 386, 'sudden': 4322, 'extremist': 1603, 'dignifi': 1287, 'damn': 1139, 'shake': 3989, 'glimps': 1878, 'bankruptci': 403, 'ordinari': 3151, 'takeout': 4401, 'ass': 296, 'fort': 1763, 'postal': 3395, 'easili': 1429, 'ag': 104, 'golden': 1899, 'tata': 4417, 'bow': 596, 'bday': 431, 'isi': 2323, 'volatil': 4803, 'papa': 3214, 'meter': 2809, 'drove': 1401, 'rain': 3598, 'steel': 4252, 'nearli': 2992, 'crew': 1082, 'kare': 2439, 'fraudul': 1782, 'confisc': 956, 'anger': 204, 'reckless': 3662, 'cab': 685, 'puri': 3547, 'whilst': 4888, 'dust': 1414, 'roy': 3816, 'tire': 4537, 'showcas': 4044, 'oz': 3182, 'grocer': 1945, 'explor': 1590, 'multi': 2931, 'scientif': 3918, 'suddenli': 4323, 'paisa': 3196, 'warfar': 4833, 'exit': 1576, 'dispens': 1327, 'colleagu': 894, 'primari': 3453, 'roadshow': 3795, 'harri': 2023, 'salman': 3872, 'san': 3878, 'wouldv': 4946, 'sooner': 4154, 'sane': 3880, 'refresh': 3682, 'pant': 3212, 'drunk': 1403, 'recognis': 3664, 'tukd': 4637, 'artist': 277, 'unnecessari': 4697, 'burnt': 668, 'toy': 4578, 'cooki': 1006, 'unbias': 4669, 'kaha': 2425, 'overcom': 3173, 'routin': 3814, 'un': 4665, 'cop': 1010, 'goa': 1887, 'underway': 4678, 'tizzi': 4541, 'shakthi': 3990, 'turkey': 4642, 'brutal': 640, 'basket': 415, 'theyv': 4488, 'pub': 3529, 'rajya': 3609, 'butt': 675, 'mujh': 2927, 'neck': 2995, 'edit': 1443, 'fell': 1676, 'worsen': 4939, 'pop': 3383, 'bsnl': 642, 'lage': 2517, 'fallout': 1626, 'uae': 4656, 'karma': 2440, 'killer': 2471, 'abscond': 27, 'stole': 4262, 'dalla': 1136, 'portfolio': 3388, 'deputi': 1233, 'nahin': 2957, 'began': 446, 'aan': 6, 'deepli': 1183, 'ghost': 1867, 'attain': 320, 'fanat': 1633, 'fundament': 1819, 'florida': 1729, 'curs': 1118, 'regret': 3690, 'coronacrisisuk': 1018, 'fashion': 1645, 'spineless': 4192, 'icon': 2179, 'propoganda': 3504, 'poison': 3365, 'sway': 4372, 'perspect': 3289, 'easter': 1431, 'closer': 872, 'payer': 3257, 'babu': 371, 'percentag': 3276, 'focuss': 1737, 'proport': 3505, 'diseas': 1318, 'webinar': 4857, 'mainstream': 2697, 'femal': 1679, 'kamal': 2432, 'toi': 4547, 'mileag': 2829, 'guidelin': 1966, 'soooo': 4156, 'proclaim': 3476, 'prejudic': 3428, 'tracker': 4582, 'prize': 3466, 'zealand': 4994, 'burden': 662, 'nri': 3067, 'cum': 1108, 'thumb': 4520, 'lesser': 2576, 'sink': 4081, 'broken': 635, 'dot': 1375, 'kingdom': 2477, 'broadcast': 633, 'electron': 1458, 'strang': 4280, 'spell': 4183, 'safeguard': 3856, 'privileg': 3464, 'deceiv': 1171, 'holi': 2109, 'passport': 3239, 'math': 2758, 'enlighten': 1493, 'guj': 1968, 'netflix': 3016, 'iit': 2191, 'exhaust': 1573, 'split': 4196, 'tree': 4609, 'fragil': 1776, 'concret': 947, 'zombi': 4998, 'frame': 1777, 'knee': 2486, 'jha': 2379, 'tiger': 4527, 'thailand': 4472, 'fakendra': 1623, 'glass': 1877, 'rogu': 3803, 'lekin': 2570, 'anxiou': 225, 'jst': 2406, 'scum': 3929, 'uttarakhand': 4734, 'quaratinelif': 3560, 'ohh': 3107, 'befit': 444, 'jhumla': 2382, 'bathroom': 420, 'wais': 4816, 'hoga': 2105, 'unnecessarili': 4698, 'yup': 4993, 'coronavirusuk': 1029, 'footbal': 1747, 'appl': 247, 'pokhran': 3367, 'uri': 4720, 'knock': 2488, 'obc': 3083, 'saint': 3866, 'rock': 3801, 'festiv': 1680, 'partial': 3231, 'juli': 2412, 'pillar': 3318, 'pune': 3539, 'tshirt': 4633, 'sing': 4075, 'puppet': 3542, 'abhisar': 20, 'owaisi': 3178, 'modih': 2880, 'workforc': 4934, 'commerc': 911, 'violent': 4790, 'seven': 3982, 'thu': 4518, 'how': 2142, 'chahiy': 761, 'kay': 2452, 'volum': 4804, 'blah': 535, 'rti': 3822, 'frozen': 1804, 'promin': 3491, 'pawar': 3254, 'grocerystor': 1948, 'recognit': 3665, 'trash': 4603, 'automat': 341, 'transpar': 4600, 'ep': 1509, 'grave': 1934, 'nah': 2955, 'jain': 2349, 'pradhan': 3412, 'bhakta': 489, 'logist': 2626, 'sought': 4160, 'confin': 954, 'fascin': 1642, 'charm': 785, 'excus': 1569, 'jhoot': 2381, 'asaduddin': 281, 'hyderabad': 2169, 'covidindia': 1060, 'passion': 3238, 'bharatvarsh': 495, 'aaya': 10, 'facemask': 1610, 'jame': 2355, 'dekh': 1197, 'equival': 1517, 'darbari': 1147, 'yep': 4973, 'oilpric': 3109, 'misrul': 2856, 'tim': 4531, 'fewer': 1683, 'procur': 3477, 'ooh': 3125, 'vanish': 4751, 'bond': 572, 'mangeshkar': 2721, 'ha': 1982, 'brick': 622, 'pc': 3259, 'shelf': 4015, 'surfac': 4351, 'bola': 564, 'gratitud': 1933, 'flu': 1734, 'gym': 1980, 'alarm': 145, 'j': 2341, 'teas': 4430, 'controversi': 997, 'commi': 913, 'favourit': 1657, 'heck': 2056, 'acch': 39, 'isl': 2324, 'irani': 2315, 'bla': 530, 'repair': 3722, 'cat': 732, 'jais': 2351, 'karn': 2441, 'telangana': 4441, 'mrx': 2919, 'cc': 741, 'mgnrega': 2813, 'courtesi': 1052, 'corridor': 1035, 'jio': 2387, 'unfair': 4682, 'cashier': 729, 'broad': 632, 'overtim': 3176, 'bubbl': 646, 'discrimin': 1316, 'legitim': 2569, 'candi': 704, 'rightli': 3782, 'parliamentari': 3228, 'coalit': 885, 'tabhi': 4391, 'moreov': 2901, 'sunni': 4335, 'ebay': 1434, 'hidden': 2076, 'label': 2510, 'permit': 3286, 'benami': 466, 'gutter': 1977, 'uncertain': 4670, 'politicis': 3375, 'procedur': 3473, 'et': 1533, 'authent': 338, 'selfisol': 3955, 'royal': 3817, 'treasur': 4605, 'consolid': 975, 'hotlin': 2137, 'franc': 1778, 'congresss': 967, 'auto': 340, 'refund': 3684, 'spit': 4194, 'blink': 545, 'secondli': 3938, 'nia': 3028, 'civilian': 849, 'bench': 467, 'unawar': 4667, 'sex': 3984, 'patienc': 3247, 'gentleman': 1857, 'context': 990, 'commend': 909, 'dip': 1295, 'shell': 4016, 'hall': 1997, 'anand': 196, 'longest': 2636, 'scratch': 3924, 'nai': 2958, 'misguid': 2853, 'unfollow': 4683, 'snl': 4124, 'signific': 4061, 'costco': 1038, 'vs': 4810, 'down': 1379, 'loo': 2637, 'nap': 2966, 'alot': 165, 'ruler': 3829, 'spectrum': 4179, 'monthli': 2895, 'dealer': 1164, 'distract': 1337, 'hardik': 2017, 'maintain': 2698, 'bog': 560, 'chase': 788, 'escal': 1524, 'suspens': 4367, 'timelin': 4533, 'pok': 3366, 'rashtra': 3627, 'bhakth': 490, 'accumul': 47, 'decemb': 1172, 'handwash': 2006, 'exercis': 1572, 'pari': 3224, 'raini': 3599, 'advoc': 93, 'med': 2781, 'worship': 4940, 'krishna': 2497, 'revis': 3769, 'flattenthecurv': 1717, 'coronapocolyps': 1021, 'hammer': 2000, 'temperatur': 4449, 'stockup': 4261, 'conserv': 971, 'civilis': 850, 'slap': 4097, 'saheb': 3861, 'spite': 4195, 'coach': 883, 'sore': 4157, 'telegraph': 4444, 'deploy': 1228, 'petroleum': 3293, 'bike': 510, 'ayodhya': 357, 'rahulgandhi': 3592, 'compuls': 937, 'ecosystem': 1440, 'insist': 2273, 'afghanistan': 98, 'fart': 1641, 'diesel': 1277, 'mountain': 2911, 'complic': 934, 'analys': 191, 'librari': 2583, 'pot': 3398, 'prachar': 3408, 'banker': 401, 'kitna': 2483, 'jave': 2362, 'scoundrel': 3921, 'aint': 126, 'blunder': 555, 'input': 2267, 'vindic': 4787, 'outstand': 3171, 'businessman': 671, 'cruis': 1103, 'concert': 943, 'deshdrohi': 1239, 'mall': 2707, 'firmli': 1706, 'recal': 3657, 'pleasur': 3347, 'pnb': 3360, 'jab': 2342, 'labor': 2511, 'brainless': 607, 'awww': 355, 'tulsi': 4638, 'filmmak': 1693, 'opindia': 3133, 'prefix': 3426, 'senat': 3962, 'telugu': 4448, 'vigil': 4783, 'bath': 419, 'chalo': 769, 'thier': 4491, 'realest': 3648, 'hook': 2125, 'annoy': 212, 'juic': 2411, 'easier': 1428, 'exploit': 1589, 'burst': 669, 'implic': 2209, 'dick': 1271, 'lung': 2666, 'andh': 201, 'maya': 2767, 'dynam': 1416, 'parad': 3220, 'woke': 4922, 'apna': 237, 'fiction': 1685, 'pregnant': 3427, 'dividend': 1346, 'guest': 1962, 'bleach': 540, 'twitterati': 4651, 'fallen': 1625, 'attribut': 327, 'enterpris': 1498, 'lysol': 2672, 'laundri': 2543, 'atroc': 317, 'tamilnadu': 4408, 'exact': 1556, 'circu': 841, 'nz': 3080, 'sphere': 4187, 'steadi': 4250, 'equiti': 1516, 'privaci': 3462, 'male': 2704, 'ngo': 3025, 'wild': 4903, 'acc': 35, 'tmc': 4542, 'cite': 844, 'selfless': 3956, 'collabor': 892, 'plung': 3354, 'aisa': 136, 'climat': 867, 'ubi': 4658, 'prof': 3480, 'crack': 1069, 'quint': 3571, 'fee': 1670, 'weight': 4866, 'bound': 594, 'diari': 1270, 'harder': 2015, 'elsewher': 1464, 'devast': 1254, 'port': 3387, 'jan': 2357, 'yall': 4963, 'borrow': 586, 'ashok': 287, 'pronounc': 3496, 'cdc': 743, 'thanx': 4475, 'jewel': 2378, 'rapist': 3625, 'harsh': 2024, 'user': 4729, 'veggi': 4760, 'msp': 2923, 'mob': 2869, 'ncp': 2986, 'randeep': 3615, 'raul': 3635, 'theater': 4478, 'trp': 4625, 'prosecutor': 3508, 'harass': 2012, 'ind': 2231, 'effici': 1447, 'wood': 4928, 'dhan': 1261, 'thin': 4493, 'utterli': 4736, 'ethic': 1535, 'sweat': 4374, 'rrr': 3818, 'ratna': 3633, 'chicago': 804, 'hubbi': 2148, 'gya': 1979, 'blatant': 538, 'soo': 4152, 'nobel': 3042, 'raja': 3602, 'maharaja': 2689, 'lane': 2526, 'motherland': 2908, 'crown': 1099, 'oust': 3161, 'invok': 2309, 'abp': 25, 'stare': 4228, 'secretari': 3940, 'shekhar': 4014, 'agni': 111, 'luckili': 2664, 'delight': 1204, 'pais': 3195, 'photograph': 3304, 'circumst': 843, 'arr': 270, 'amus': 188, 'protocol': 3514, 'breach': 613, 'acha': 51, 'injustic': 2263, 'oppress': 3142, 'sidelin': 4056, 'voucher': 4808, 'regularli': 3693, 'tomato': 4557, 'narind': 2971, 'ahmedabad': 121, 'invad': 2302, 'snack': 4119, 'spin': 4190, 'assign': 304, 'grandma': 1929, 'homemad': 2114, 'stopthespread': 4273, 'poop': 3379, 'hay': 2037, 'nonbjp': 3048, 'orang': 3147, 'ilk': 2192, 'publix': 3533, 'desk': 1242, 'apocalyps': 239, 'berojgar': 475, 'undertaken': 4677, 'nepal': 3010, 'confront': 958, 'tube': 4635, 'fyi': 1822, 'promo': 3493, 'slide': 4102, 'prepper': 3433, 'impli': 2208, 'swine': 4378, 'feather': 1664, 'cap': 711, 'corn': 1014, 'mainli': 2696, 'luv': 2669, 'dang': 1144, 'saar': 3841, 'neighborhood': 3007, 'starvat': 4232, 'constant': 977, 'oversea': 3175, 'element': 1459, 'wid': 4899, 'thunder': 4522, 'teen': 4434, 'janata': 2358, 'charact': 782, 'rahi': 3589, 'fdi': 1660, 'pharmacist': 3296, 'distilleri': 1335, 'aag': 3, 'isra': 2331, 'pti': 3528, 'coronavirusindia': 1025, 'disrespect': 1331, 'repeatedli': 3725, 'prepared': 3432, 'essay': 1528, 'myanmar': 2944, 'inequ': 2249, 'dekho': 1198, 'sharpli': 4004, 'weaken': 4850, 'wore': 4931, 'candidatur': 706, 'gareebi': 1837, 'wrap': 4948, 'advers': 88, 'de': 1159, 'bent': 474, 'podcast': 3362, 'principl': 3456, 'slightli': 4103, 'domain': 1364, 'prostitut': 3511, 'shopkeep': 4034, 'float': 1725, 'aam': 5, 'sarcasm': 3889, 'en': 1477, 'disciplin': 1310, 'incap': 2219, 'giriraj': 1872, 'lockdownuk': 2623, 'mild': 2827, 'cigarett': 838, 'island': 2326, 'gaya': 1847, 'stab': 4211, 'craft': 1070, 'glorifi': 1882, 'environment': 1508, 'resum': 3755, 'oppn': 3136, 'builder': 652, 'waitros': 4818, 'gathbandhan': 1842, 'instant': 2278, 'licker': 2587, 'taraf': 4412, 'pura': 3544, 'trek': 4610, 'knw': 2492, 'toronto': 4567, 'gohpur': 1895, 'retali': 3758, 'analyt': 194, 'msg': 2920, 'lootu': 2642, 'majburi': 2699, 'statur': 4241, 'proceed': 3474, 'ac': 33, 'rjd': 3791, 'begusarai': 450, 'jagannath': 2346, 'agreement': 114, 'mulayam': 2930, 'aapk': 8, 'african': 101, 'lake': 2519, 'goin': 1897, 'banner': 404, 'dia': 1266, 'refrain': 3681, 'enthusiasm': 1500, 'ward': 4831, 'frighten': 1800, 'prom': 3490, 'bureaucrat': 664, 'homi': 2116, 'demonit': 1217, 'bhim': 497, 'hul': 2153, 'brace': 603, 'flourish': 1731, 'audienc': 330, 'telecom': 4443, 'woo': 4927, 'sugar': 4326, 'goodby': 1903, 'dissent': 1333, 'atom': 316, 'queri': 3564, 'ben': 465, 'omar': 3114, 'guardian': 1959, 'length': 2573, 'bug': 650, 'plate': 3340, 'conscienc': 969, 'hee': 2057, 'homeless': 2113, 'rat': 3628, 'ayam': 356, 'bunker': 661, 'discredit': 1315, 'isliy': 2327, 'neglig': 3002, 'vow': 4809, 'racist': 3578, 'sheep': 4011, 'bbcnew': 425, 'kabir': 2423, 'deck': 1176, 'sahib': 3863, 'karta': 2446, 'yum': 4992, 'nigerian': 3032, 'def': 1184, 'poorer': 3381, 'denial': 1224, 'utmost': 4732, 'coronaviruschalleng': 1024, 'jem': 2374, 'tape': 4411, 'clever': 864, 'drone': 1399, 'nois': 3045, 'pathankot': 3245, 'bombay': 571, 'cheaper': 792, 'underestim': 4673, 'confess': 952, 'climb': 868, 'christma': 835, 'ring': 3783, 'preced': 3421, 'aveng': 343, 'deadlin': 1162, 'johnson': 2393, 'inevit': 2250, 'foodbank': 1743, 'der': 1234, 'explod': 1588, 'mukesh': 2928, 'akhtar': 142, 'rakesh': 3610, 'nagar': 2953, 'talkatora': 4404, 'electrif': 1457, 'ps': 3523, 'kia': 2466, 'subsid': 4316, 'vega': 4757, 'discard': 1309, 'unveil': 4702, 'deshbhakt': 1238, 'bharatiya': 494, 'foe': 1738, 'beliv': 460, 'premier': 3429, 'aldiuk': 149, 'kenya': 2458, 'bbq': 426, 'bitter': 525, 'fudg': 1810, 'inventori': 2304, 'packet': 3188, 'peon': 3272, 'prescript': 3434, 'kg': 2462, 'usag': 4725, 'mckinsey': 2773, 'garib': 1838, 'troop': 4623, 'dum': 1409, 'marvel': 2743, 'surrend': 4358, 'chinaviru': 813, 'spade': 4168, 'grain': 1926, 'kalam': 2429, 'chandra': 773, 'helpless': 2067, 'fabul': 1607, 'thoda': 4500, 'visa': 4795, 'adam': 68, 'extern': 1599, 'blabber': 531, 'formal': 1759, 'parasit': 3221, 'gobar': 1890, 'bose': 587, 'broker': 636, 'contamin': 987, 'chap': 780, 'mod': 2873, 'sham': 3993, 'iim': 2190, 'rld': 3792, 'cun': 1109, 'yoga': 4977, 'tail': 4396, 'cannabi': 707, 'recycl': 3671, 'flew': 1721, 'facilit': 1612, 'expir': 1585, 'hardest': 2016, 'miracl': 2849, 'kaftan': 2424, 'unexpect': 4681, 'ink': 2264, 'rathe': 3630, 'rose': 3809, 'jayega': 2367, 'prey': 3449, 'empower': 1475, 'abdul': 15, 'ocean': 3095, 'idol': 2188, 'robust': 3800, 'plain': 3333, 'intervent': 2298, 'limelight': 2597, 'hoax': 2104, 'misinform': 2854, 'matondkar': 2760, 'centric': 752, 'harvest': 2025, 'ju': 2407, 'boyfriend': 601, 'starbuck': 4227, 'comprehens': 935, 'tragic': 4588, 'goahead': 1888, 'preciou': 3422, 'dish': 1321, 'belittl': 459, 'semi': 3959, 'irrit': 2322, 'ancestor': 198, 'megar': 2789, 'chal': 767, 'bori': 583, 'glue': 1885, 'booth': 579, 'resolut': 3742, 'godhra': 1892, 'comic': 907, 'blackmoney': 534, 'mike': 2825}\n"
     ]
    }
   ],
   "source": [
    "# CountVectorizer creates a vocabulary. Checking Vocabulary\n",
    "print('VOCABULARY SIZE: ', len(count_vector.vocabulary_))\n",
    "print('VOCABULARY CONTENT: ', count_vector.vocabulary_)\n"
   ]
  },
  {
   "cell_type": "code",
   "execution_count": 7,
   "metadata": {},
   "outputs": [],
   "source": [
    "# Transform the training data\n",
    "X_train_bow = count_vector.transform(X_train).toarray()\n",
    "\n",
    "# Transform the testing data\n",
    "X_test_bow = count_vector.transform(X_test).toarray()\n"
   ]
  },
  {
   "cell_type": "code",
   "execution_count": 36,
   "metadata": {},
   "outputs": [
    {
     "data": {
      "text/plain": [
       "5000"
      ]
     },
     "execution_count": 36,
     "metadata": {},
     "output_type": "execute_result"
    }
   ],
   "source": [
    "len(X_train_bow[1])"
   ]
  },
  {
   "cell_type": "markdown",
   "metadata": {},
   "source": [
    "## Experiments from here on out\n"
   ]
  },
  {
   "cell_type": "code",
   "execution_count": 12,
   "metadata": {},
   "outputs": [],
   "source": [
    "from sklearn.neighbors import KNeighborsClassifier\n",
    "from sklearn.model_selection import cross_val_score\n",
    "from sklearn.ensemble import RandomForestClassifier\n"
   ]
  },
  {
   "cell_type": "code",
   "execution_count": 28,
   "metadata": {},
   "outputs": [
    {
     "data": {
      "text/plain": [
       "RandomForestClassifier(bootstrap=True, ccp_alpha=0.0, class_weight=None,\n",
       "                       criterion='entropy', max_depth=5, max_features='auto',\n",
       "                       max_leaf_nodes=None, max_samples=None,\n",
       "                       min_impurity_decrease=0.0, min_impurity_split=None,\n",
       "                       min_samples_leaf=1, min_samples_split=2,\n",
       "                       min_weight_fraction_leaf=0.0, n_estimators=500,\n",
       "                       n_jobs=None, oob_score=False, random_state=None,\n",
       "                       verbose=0, warm_start=False)"
      ]
     },
     "execution_count": 28,
     "metadata": {},
     "output_type": "execute_result"
    }
   ],
   "source": [
    "Ran_For = RandomForestClassifier(max_depth=5, n_estimators=500, criterion='entropy')\n",
    "Ran_For.fit(X_train_bow, y_train)"
   ]
  },
  {
   "cell_type": "code",
   "execution_count": 37,
   "metadata": {},
   "outputs": [
    {
     "data": {
      "text/plain": [
       "array([2, 2, 2, 2, 2, 2, 2, 2, 2, 2, 2, 2, 2, 2, 2, 2, 2, 2, 2, 2, 2, 2,\n",
       "       2, 2, 2, 2, 2, 2, 2, 2, 2, 2, 2, 2, 2, 2, 2, 2, 2, 2, 2, 2, 2, 2,\n",
       "       2, 2, 2, 2, 2, 2, 2, 2, 2, 2, 2, 2, 2, 2, 2, 2, 2, 2, 2, 2, 2, 2,\n",
       "       2, 2, 2, 2, 2, 2, 2, 2, 2, 2, 2, 2, 2, 2, 2, 2, 2, 2, 2, 2, 2, 2,\n",
       "       2, 2, 2, 2, 2, 2, 2, 2, 2, 2, 2, 2, 2, 2, 2, 2, 2, 2, 2, 2, 2, 2,\n",
       "       2, 2, 2, 2, 2, 2, 2, 2, 2, 2, 2, 2, 2, 2, 2, 2, 2, 2, 2, 2, 2, 2,\n",
       "       2, 2, 2, 2, 2, 2, 2, 2, 2, 2, 2, 2, 2, 2, 2, 2, 2, 2, 2, 2, 2, 2,\n",
       "       2, 2, 2, 2, 2, 2, 2, 2, 2, 2, 2, 2, 2, 2, 2, 2, 2, 2, 2, 2, 2, 2,\n",
       "       2, 2, 2, 2, 2, 2, 2, 2, 2, 2, 2, 2, 2, 2, 2, 2, 2, 2, 2, 2, 2, 2,\n",
       "       2, 2, 2, 2, 2, 2, 2, 2, 2, 2, 2, 2, 2, 2, 2, 2, 2, 2, 2, 2, 2, 2,\n",
       "       2, 2, 2, 2, 2, 2, 2, 2, 2, 2, 2, 2, 2, 2, 2, 2, 2, 2, 2, 2, 2, 2,\n",
       "       2, 2, 2, 2, 2, 2, 2, 2, 2, 2, 2, 2, 2, 2, 2, 2, 2, 2, 2, 2, 2, 2,\n",
       "       2, 2, 2, 2, 2, 2, 2, 2, 2, 2, 2, 2, 2, 2, 2, 2, 2, 2, 2, 2, 2, 2,\n",
       "       2, 2, 2, 2, 2, 2, 2, 2, 2, 2, 2, 2, 2, 2, 2, 2, 2, 2, 2, 2, 2, 2,\n",
       "       2, 2, 2, 2, 2, 2, 2, 2, 2, 2, 2, 2, 2, 2, 2, 2, 2, 2, 2, 2, 2, 2,\n",
       "       2, 2, 2, 2, 2, 2, 2, 2, 2, 2, 2, 2, 2, 2, 2, 2, 2, 2, 2, 2, 2, 2,\n",
       "       2, 2, 2, 2, 2, 2, 2, 2, 2, 2, 2, 2, 2, 2, 2, 2, 2, 2, 2, 2, 2, 2,\n",
       "       2, 2, 2, 2, 2, 2, 2, 2, 2, 2, 2, 2, 2, 2, 2, 2, 2, 2, 2, 2, 2, 2,\n",
       "       2, 2, 2, 2, 2, 2, 2, 2, 2, 2, 2, 2, 2, 2, 2, 2, 2, 2, 2, 2, 2, 2,\n",
       "       2, 2, 2, 2, 2, 2, 2, 2, 2, 2, 2, 2, 2, 2, 2, 2, 2, 2, 2, 2, 2, 2,\n",
       "       2, 2, 2, 2, 2, 2, 2, 2, 2, 2, 2, 2, 2, 2, 2, 2, 2, 2, 2, 2, 2, 2,\n",
       "       2, 2, 2, 2, 2, 2, 2, 2, 2, 2, 2, 2, 2, 2, 2, 2, 2, 2, 2, 2, 2, 2,\n",
       "       2, 2, 2, 2, 2, 2, 2, 2, 2, 2, 2, 2, 2, 2, 2, 2])"
      ]
     },
     "execution_count": 37,
     "metadata": {},
     "output_type": "execute_result"
    }
   ],
   "source": [
    "Ran_For.predict(X_test_bow[0:500])"
   ]
  },
  {
   "cell_type": "code",
   "execution_count": 33,
   "metadata": {},
   "outputs": [
    {
     "data": {
      "text/plain": [
       "{0: 43031, 1: 53394, 2: 71051}"
      ]
     },
     "execution_count": 33,
     "metadata": {},
     "output_type": "execute_result"
    }
   ],
   "source": [
    "\n",
    "unique, counts = np.unique(y_train, return_counts=True)\n",
    "dict(zip(unique, counts))"
   ]
  },
  {
   "cell_type": "code",
   "execution_count": null,
   "metadata": {},
   "outputs": [],
   "source": []
  },
  {
   "cell_type": "code",
   "execution_count": null,
   "metadata": {},
   "outputs": [],
   "source": [
    "neigh = KNeighborsClassifier(n_neighbors=3)\n",
    "neigh.fit(X_train_bow, y_train)"
   ]
  },
  {
   "cell_type": "code",
   "execution_count": null,
   "metadata": {},
   "outputs": [],
   "source": [
    "neigh.score(X_test_bow, y_test)"
   ]
  },
  {
   "cell_type": "code",
   "execution_count": null,
   "metadata": {},
   "outputs": [],
   "source": [
    "neigh.predict(X_test_bow[0:10])"
   ]
  },
  {
   "cell_type": "code",
   "execution_count": null,
   "metadata": {},
   "outputs": [],
   "source": [
    "# save the model to disk\n",
    "filename = 'finalized_model.sav'\n",
    "pickle.dump(model, open(filename, 'wb'))\n",
    " \n",
    "# some time later...\n",
    " \n",
    "# load the model from disk\n",
    "loaded_model = pickle.load(open(filename, 'rb'))\n",
    "result = loaded_model.score(X_test, Y_test)\n",
    "print(result)"
   ]
  }
 ],
 "metadata": {
  "kernelspec": {
   "display_name": "Python 3",
   "language": "python",
   "name": "python3"
  },
  "language_info": {
   "codemirror_mode": {
    "name": "ipython",
    "version": 3
   },
   "file_extension": ".py",
   "mimetype": "text/x-python",
   "name": "python",
   "nbconvert_exporter": "python",
   "pygments_lexer": "ipython3",
   "version": "3.7.3"
  }
 },
 "nbformat": 4,
 "nbformat_minor": 2
}
